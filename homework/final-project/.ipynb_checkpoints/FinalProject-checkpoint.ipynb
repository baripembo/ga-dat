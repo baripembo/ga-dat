{
 "cells": [
  {
   "cell_type": "code",
   "execution_count": 188,
   "metadata": {
    "slideshow": {
     "slide_type": "skip"
    }
   },
   "outputs": [],
   "source": [
    "import pandas as pd\n",
    "import numpy as np\n",
    "import seaborn as sns\n",
    "import matplotlib.pyplot as plt\n",
    "\n",
    "%matplotlib inline\n",
    "\n",
    "import warnings\n",
    "warnings.filterwarnings(\"ignore\")"
   ]
  },
  {
   "cell_type": "markdown",
   "metadata": {
    "slideshow": {
     "slide_type": "slide"
    }
   },
   "source": [
    "## Inclusive access to education for persons with disabilities\n",
    "#### Disability Assessment among Syrian Refugees in Jordan and Lebanon, July 2018\n",
    "\n",
    "* data collected by humanitarian organization Humanity & Inclusion\n",
    "* Quantitative data was collected from 6,381 persons of randomly sampled 1,159 households in Azraq and Zaatari camps between October 2017 and January 2018\n",
    "* Survey questions based on UNICEF Module on Child Functioning that assesses functional difficulties in different domains including hearing, vision, communication/comprehension, learning, mobility and emotions\n",
    "* source: https://data.humdata.org/dataset/removing-barriers-the-path-towards-inclusive-access-disability-assessment"
   ]
  },
  {
   "cell_type": "code",
   "execution_count": 410,
   "metadata": {
    "slideshow": {
     "slide_type": "slide"
    }
   },
   "outputs": [
    {
     "data": {
      "text/html": [
       "<div>\n",
       "<style scoped>\n",
       "    .dataframe tbody tr th:only-of-type {\n",
       "        vertical-align: middle;\n",
       "    }\n",
       "\n",
       "    .dataframe tbody tr th {\n",
       "        vertical-align: top;\n",
       "    }\n",
       "\n",
       "    .dataframe thead th {\n",
       "        text-align: right;\n",
       "    }\n",
       "</style>\n",
       "<table border=\"1\" class=\"dataframe\">\n",
       "  <thead>\n",
       "    <tr style=\"text-align: right;\">\n",
       "      <th></th>\n",
       "      <th>Date</th>\n",
       "      <th>Syrian</th>\n",
       "      <th>Country</th>\n",
       "      <th>Governorate</th>\n",
       "      <th>UNHCR_registration</th>\n",
       "      <th>Housing</th>\n",
       "      <th>Housing_electricity</th>\n",
       "      <th>Housing_mobility</th>\n",
       "      <th>Housing_fear_attack_harrassment</th>\n",
       "      <th>Housing_fear_harm_injuries</th>\n",
       "      <th>...</th>\n",
       "      <th>Children with disabilities in a classroom will decrease the quality of learning for children without disabilities</th>\n",
       "      <th>Children with specific disabilities will not learn</th>\n",
       "      <th>You said children with specific disabilities will not learn, would you please mention?</th>\n",
       "      <th>Intellectual Disability?</th>\n",
       "      <th>Psychosocial Disability?</th>\n",
       "      <th>Visual Disability?</th>\n",
       "      <th>Hearing Disability?</th>\n",
       "      <th>Physical Disability?</th>\n",
       "      <th>Communication Disability?</th>\n",
       "      <th>Children with disabilities can learn better in special schools educated by specially trained teachers</th>\n",
       "    </tr>\n",
       "  </thead>\n",
       "  <tbody>\n",
       "    <tr>\n",
       "      <th>0</th>\n",
       "      <td>Oct 29 2017 12:00AM</td>\n",
       "      <td>Yes</td>\n",
       "      <td>Jordan</td>\n",
       "      <td>Irbid</td>\n",
       "      <td>Yes</td>\n",
       "      <td>Yes</td>\n",
       "      <td>Yes</td>\n",
       "      <td>Yes</td>\n",
       "      <td>No</td>\n",
       "      <td>NaN</td>\n",
       "      <td>...</td>\n",
       "      <td>NaN</td>\n",
       "      <td>NaN</td>\n",
       "      <td>NaN</td>\n",
       "      <td>NaN</td>\n",
       "      <td>NaN</td>\n",
       "      <td>NaN</td>\n",
       "      <td>NaN</td>\n",
       "      <td>NaN</td>\n",
       "      <td>NaN</td>\n",
       "      <td>NaN</td>\n",
       "    </tr>\n",
       "    <tr>\n",
       "      <th>1</th>\n",
       "      <td>12/13/2017</td>\n",
       "      <td>Yes</td>\n",
       "      <td>Lebanon</td>\n",
       "      <td>Bekaa</td>\n",
       "      <td>Yes</td>\n",
       "      <td>Yes</td>\n",
       "      <td>Yes</td>\n",
       "      <td>Yes</td>\n",
       "      <td>No</td>\n",
       "      <td>No</td>\n",
       "      <td>...</td>\n",
       "      <td>NaN</td>\n",
       "      <td>NaN</td>\n",
       "      <td>NaN</td>\n",
       "      <td>NaN</td>\n",
       "      <td>NaN</td>\n",
       "      <td>NaN</td>\n",
       "      <td>NaN</td>\n",
       "      <td>NaN</td>\n",
       "      <td>NaN</td>\n",
       "      <td>NaN</td>\n",
       "    </tr>\n",
       "    <tr>\n",
       "      <th>2</th>\n",
       "      <td>12/10/2017</td>\n",
       "      <td>Yes</td>\n",
       "      <td>Jordan</td>\n",
       "      <td>Mafraq</td>\n",
       "      <td>Yes</td>\n",
       "      <td>Yes</td>\n",
       "      <td>Yes</td>\n",
       "      <td>Yes</td>\n",
       "      <td>Yes</td>\n",
       "      <td>Yes</td>\n",
       "      <td>...</td>\n",
       "      <td>NaN</td>\n",
       "      <td>NaN</td>\n",
       "      <td>NaN</td>\n",
       "      <td>NaN</td>\n",
       "      <td>NaN</td>\n",
       "      <td>NaN</td>\n",
       "      <td>NaN</td>\n",
       "      <td>NaN</td>\n",
       "      <td>NaN</td>\n",
       "      <td>NaN</td>\n",
       "    </tr>\n",
       "    <tr>\n",
       "      <th>3</th>\n",
       "      <td>12/7/2017</td>\n",
       "      <td>Yes</td>\n",
       "      <td>Jordan</td>\n",
       "      <td>Mafraq</td>\n",
       "      <td>Yes</td>\n",
       "      <td>Yes</td>\n",
       "      <td>Yes</td>\n",
       "      <td>No</td>\n",
       "      <td>No</td>\n",
       "      <td>No</td>\n",
       "      <td>...</td>\n",
       "      <td>NaN</td>\n",
       "      <td>NaN</td>\n",
       "      <td>NaN</td>\n",
       "      <td>NaN</td>\n",
       "      <td>NaN</td>\n",
       "      <td>NaN</td>\n",
       "      <td>NaN</td>\n",
       "      <td>NaN</td>\n",
       "      <td>NaN</td>\n",
       "      <td>NaN</td>\n",
       "    </tr>\n",
       "    <tr>\n",
       "      <th>4</th>\n",
       "      <td>12/7/2017</td>\n",
       "      <td>Yes</td>\n",
       "      <td>Jordan</td>\n",
       "      <td>Mafraq</td>\n",
       "      <td>Yes</td>\n",
       "      <td>Yes</td>\n",
       "      <td>Yes</td>\n",
       "      <td>Yes</td>\n",
       "      <td>No</td>\n",
       "      <td>No</td>\n",
       "      <td>...</td>\n",
       "      <td>NaN</td>\n",
       "      <td>NaN</td>\n",
       "      <td>NaN</td>\n",
       "      <td>NaN</td>\n",
       "      <td>NaN</td>\n",
       "      <td>NaN</td>\n",
       "      <td>NaN</td>\n",
       "      <td>NaN</td>\n",
       "      <td>NaN</td>\n",
       "      <td>NaN</td>\n",
       "    </tr>\n",
       "  </tbody>\n",
       "</table>\n",
       "<p>5 rows × 296 columns</p>\n",
       "</div>"
      ],
      "text/plain": [
       "                  Date Syrian  Country Governorate UNHCR_registration Housing  \\\n",
       "0  Oct 29 2017 12:00AM    Yes   Jordan       Irbid                Yes     Yes   \n",
       "1           12/13/2017    Yes  Lebanon       Bekaa                Yes     Yes   \n",
       "2           12/10/2017    Yes   Jordan      Mafraq                Yes     Yes   \n",
       "3            12/7/2017    Yes   Jordan      Mafraq                Yes     Yes   \n",
       "4            12/7/2017    Yes   Jordan      Mafraq                Yes     Yes   \n",
       "\n",
       "  Housing_electricity Housing_mobility Housing_fear_attack_harrassment  \\\n",
       "0                 Yes              Yes                              No   \n",
       "1                 Yes              Yes                              No   \n",
       "2                 Yes              Yes                             Yes   \n",
       "3                 Yes               No                              No   \n",
       "4                 Yes              Yes                              No   \n",
       "\n",
       "  Housing_fear_harm_injuries  ...  \\\n",
       "0                        NaN  ...   \n",
       "1                         No  ...   \n",
       "2                        Yes  ...   \n",
       "3                         No  ...   \n",
       "4                         No  ...   \n",
       "\n",
       "  Children with disabilities in a classroom will decrease the quality of learning for children without disabilities  \\\n",
       "0                                                NaN                                                                  \n",
       "1                                                NaN                                                                  \n",
       "2                                                NaN                                                                  \n",
       "3                                                NaN                                                                  \n",
       "4                                                NaN                                                                  \n",
       "\n",
       "  Children with specific disabilities will not learn  \\\n",
       "0                                                NaN   \n",
       "1                                                NaN   \n",
       "2                                                NaN   \n",
       "3                                                NaN   \n",
       "4                                                NaN   \n",
       "\n",
       "  You said children with specific disabilities will not learn, would you please mention?  \\\n",
       "0                                                NaN                                       \n",
       "1                                                NaN                                       \n",
       "2                                                NaN                                       \n",
       "3                                                NaN                                       \n",
       "4                                                NaN                                       \n",
       "\n",
       "  Intellectual Disability? Psychosocial Disability? Visual Disability?  \\\n",
       "0                      NaN                      NaN                NaN   \n",
       "1                      NaN                      NaN                NaN   \n",
       "2                      NaN                      NaN                NaN   \n",
       "3                      NaN                      NaN                NaN   \n",
       "4                      NaN                      NaN                NaN   \n",
       "\n",
       "  Hearing Disability? Physical Disability? Communication Disability?  \\\n",
       "0                 NaN                  NaN                       NaN   \n",
       "1                 NaN                  NaN                       NaN   \n",
       "2                 NaN                  NaN                       NaN   \n",
       "3                 NaN                  NaN                       NaN   \n",
       "4                 NaN                  NaN                       NaN   \n",
       "\n",
       "  Children with disabilities can learn better in special schools educated by specially trained teachers  \n",
       "0                                                NaN                                                     \n",
       "1                                                NaN                                                     \n",
       "2                                                NaN                                                     \n",
       "3                                                NaN                                                     \n",
       "4                                                NaN                                                     \n",
       "\n",
       "[5 rows x 296 columns]"
      ]
     },
     "execution_count": 410,
     "metadata": {},
     "output_type": "execute_result"
    }
   ],
   "source": [
    "df = pd.read_csv('data/disability_education_assessment_final_dataset.csv')\n",
    "df.head()"
   ]
  },
  {
   "cell_type": "code",
   "execution_count": 3,
   "metadata": {
    "slideshow": {
     "slide_type": "fragment"
    }
   },
   "outputs": [
    {
     "data": {
      "text/plain": [
       "(8876, 296)"
      ]
     },
     "execution_count": 3,
     "metadata": {},
     "output_type": "execute_result"
    }
   ],
   "source": [
    "df.shape"
   ]
  },
  {
   "cell_type": "markdown",
   "metadata": {
    "slideshow": {
     "slide_type": "slide"
    }
   },
   "source": [
    "### Feature Engineering"
   ]
  },
  {
   "cell_type": "code",
   "execution_count": 411,
   "metadata": {
    "slideshow": {
     "slide_type": "slide"
    }
   },
   "outputs": [],
   "source": [
    "#focus on children age 6-12\n",
    "target_df = df[(df.Age >= 6) & (df.Age <= 12)]"
   ]
  },
  {
   "cell_type": "code",
   "execution_count": 433,
   "metadata": {
    "slideshow": {
     "slide_type": "fragment"
    }
   },
   "outputs": [],
   "source": [
    "#get rid of columns that are all null\n",
    "features = target_df.columns\n",
    "f = []\n",
    "for feature in features:\n",
    "    if (target_df[feature].isnull().sum() / len(target_df)) < 0.9:\n",
    "        f.append(feature)\n",
    "\n",
    "target_df = target_df[f]"
   ]
  },
  {
   "cell_type": "code",
   "execution_count": 6,
   "metadata": {
    "slideshow": {
     "slide_type": "fragment"
    }
   },
   "outputs": [
    {
     "data": {
      "text/plain": [
       "(1968, 151)"
      ]
     },
     "execution_count": 6,
     "metadata": {},
     "output_type": "execute_result"
    }
   ],
   "source": [
    "target_df.shape"
   ]
  },
  {
   "cell_type": "code",
   "execution_count": 7,
   "metadata": {
    "slideshow": {
     "slide_type": "fragment"
    }
   },
   "outputs": [],
   "source": [
    "target_df.to_csv('data/target2.csv', index=False)"
   ]
  },
  {
   "cell_type": "code",
   "execution_count": 413,
   "metadata": {
    "slideshow": {
     "slide_type": "slide"
    }
   },
   "outputs": [
    {
     "data": {
      "text/html": [
       "<div>\n",
       "<style scoped>\n",
       "    .dataframe tbody tr th:only-of-type {\n",
       "        vertical-align: middle;\n",
       "    }\n",
       "\n",
       "    .dataframe tbody tr th {\n",
       "        vertical-align: top;\n",
       "    }\n",
       "\n",
       "    .dataframe thead th {\n",
       "        text-align: right;\n",
       "    }\n",
       "</style>\n",
       "<table border=\"1\" class=\"dataframe\">\n",
       "  <thead>\n",
       "    <tr style=\"text-align: right;\">\n",
       "      <th></th>\n",
       "      <th>Date</th>\n",
       "      <th>Syrian</th>\n",
       "      <th>Country</th>\n",
       "      <th>Governorate</th>\n",
       "      <th>UNHCR_registration</th>\n",
       "      <th>Housing</th>\n",
       "      <th>Housing_electricity</th>\n",
       "      <th>Housing_mobility</th>\n",
       "      <th>Housing_fear_attack_harrassment</th>\n",
       "      <th>Housing_fear_harm_injuries</th>\n",
       "      <th>...</th>\n",
       "      <th>Memory_difficulty</th>\n",
       "      <th>Focus_difficulty</th>\n",
       "      <th>Accept_change_difficulty</th>\n",
       "      <th>Control_behavior_difficulty</th>\n",
       "      <th>Friends_difficulty</th>\n",
       "      <th>Anxious_nervous_worried</th>\n",
       "      <th>Sad_depressed</th>\n",
       "      <th>Status</th>\n",
       "      <th>Cause_of_difficulty</th>\n",
       "      <th>Specialized_services_provided</th>\n",
       "    </tr>\n",
       "  </thead>\n",
       "  <tbody>\n",
       "    <tr>\n",
       "      <th>0</th>\n",
       "      <td>Oct 29 2017 12:00 AM</td>\n",
       "      <td>Yes</td>\n",
       "      <td>Jordan</td>\n",
       "      <td>Irbid</td>\n",
       "      <td>Yes</td>\n",
       "      <td>Yes</td>\n",
       "      <td>Yes</td>\n",
       "      <td>Yes</td>\n",
       "      <td>No</td>\n",
       "      <td>NaN</td>\n",
       "      <td>...</td>\n",
       "      <td>0.0</td>\n",
       "      <td>0.0</td>\n",
       "      <td>0.0</td>\n",
       "      <td>0.0</td>\n",
       "      <td>0.0</td>\n",
       "      <td>Never</td>\n",
       "      <td>Never</td>\n",
       "      <td>Never He/ She go to school</td>\n",
       "      <td>NaN</td>\n",
       "      <td>NaN</td>\n",
       "    </tr>\n",
       "    <tr>\n",
       "      <th>1</th>\n",
       "      <td>12/13/2017</td>\n",
       "      <td>Yes</td>\n",
       "      <td>Lebanon</td>\n",
       "      <td>Bekaa</td>\n",
       "      <td>Yes</td>\n",
       "      <td>Yes</td>\n",
       "      <td>Yes</td>\n",
       "      <td>Yes</td>\n",
       "      <td>No</td>\n",
       "      <td>No</td>\n",
       "      <td>...</td>\n",
       "      <td>0.0</td>\n",
       "      <td>0.0</td>\n",
       "      <td>0.0</td>\n",
       "      <td>0.0</td>\n",
       "      <td>0.0</td>\n",
       "      <td>A few times a year</td>\n",
       "      <td>A few times a year</td>\n",
       "      <td>He /She gone before but he / she leaked  from ...</td>\n",
       "      <td>NaN</td>\n",
       "      <td>NaN</td>\n",
       "    </tr>\n",
       "    <tr>\n",
       "      <th>2</th>\n",
       "      <td>12/10/2017</td>\n",
       "      <td>Yes</td>\n",
       "      <td>Jordan</td>\n",
       "      <td>Mafraq</td>\n",
       "      <td>Yes</td>\n",
       "      <td>Yes</td>\n",
       "      <td>Yes</td>\n",
       "      <td>Yes</td>\n",
       "      <td>Yes</td>\n",
       "      <td>Yes</td>\n",
       "      <td>...</td>\n",
       "      <td>0.0</td>\n",
       "      <td>1.0</td>\n",
       "      <td>0.0</td>\n",
       "      <td>0.0</td>\n",
       "      <td>0.0</td>\n",
       "      <td>Weekly</td>\n",
       "      <td>Never</td>\n",
       "      <td>He /She gone before but he / she leaked  from ...</td>\n",
       "      <td>Other (specify)</td>\n",
       "      <td>Yes</td>\n",
       "    </tr>\n",
       "    <tr>\n",
       "      <th>3</th>\n",
       "      <td>12/7/2017</td>\n",
       "      <td>Yes</td>\n",
       "      <td>Jordan</td>\n",
       "      <td>Mafraq</td>\n",
       "      <td>Yes</td>\n",
       "      <td>Yes</td>\n",
       "      <td>Yes</td>\n",
       "      <td>No</td>\n",
       "      <td>No</td>\n",
       "      <td>No</td>\n",
       "      <td>...</td>\n",
       "      <td>0.0</td>\n",
       "      <td>0.0</td>\n",
       "      <td>0.0</td>\n",
       "      <td>0.0</td>\n",
       "      <td>0.0</td>\n",
       "      <td>Daily</td>\n",
       "      <td>Daily</td>\n",
       "      <td>He /She gone before but he / she leaked  from ...</td>\n",
       "      <td>I do not know</td>\n",
       "      <td>Yes</td>\n",
       "    </tr>\n",
       "    <tr>\n",
       "      <th>4</th>\n",
       "      <td>12/7/2017</td>\n",
       "      <td>Yes</td>\n",
       "      <td>Jordan</td>\n",
       "      <td>Mafraq</td>\n",
       "      <td>Yes</td>\n",
       "      <td>Yes</td>\n",
       "      <td>Yes</td>\n",
       "      <td>Yes</td>\n",
       "      <td>No</td>\n",
       "      <td>No</td>\n",
       "      <td>...</td>\n",
       "      <td>0.0</td>\n",
       "      <td>0.0</td>\n",
       "      <td>0.0</td>\n",
       "      <td>1.0</td>\n",
       "      <td>0.0</td>\n",
       "      <td>Daily</td>\n",
       "      <td>Daily</td>\n",
       "      <td>He /She gone before but he / she leaked  from ...</td>\n",
       "      <td>I do not know</td>\n",
       "      <td>Yes</td>\n",
       "    </tr>\n",
       "  </tbody>\n",
       "</table>\n",
       "<p>5 rows × 48 columns</p>\n",
       "</div>"
      ],
      "text/plain": [
       "                   Date Syrian  Country Governorate UNHCR_registration  \\\n",
       "0  Oct 29 2017 12:00 AM    Yes   Jordan       Irbid                Yes   \n",
       "1            12/13/2017    Yes  Lebanon       Bekaa                Yes   \n",
       "2            12/10/2017    Yes   Jordan      Mafraq                Yes   \n",
       "3             12/7/2017    Yes   Jordan      Mafraq                Yes   \n",
       "4             12/7/2017    Yes   Jordan      Mafraq                Yes   \n",
       "\n",
       "  Housing Housing_electricity Housing_mobility  \\\n",
       "0     Yes                 Yes              Yes   \n",
       "1     Yes                 Yes              Yes   \n",
       "2     Yes                 Yes              Yes   \n",
       "3     Yes                 Yes               No   \n",
       "4     Yes                 Yes              Yes   \n",
       "\n",
       "  Housing_fear_attack_harrassment Housing_fear_harm_injuries  ...  \\\n",
       "0                              No                        NaN  ...   \n",
       "1                              No                         No  ...   \n",
       "2                             Yes                        Yes  ...   \n",
       "3                              No                         No  ...   \n",
       "4                              No                         No  ...   \n",
       "\n",
       "  Memory_difficulty Focus_difficulty Accept_change_difficulty  \\\n",
       "0               0.0              0.0                      0.0   \n",
       "1               0.0              0.0                      0.0   \n",
       "2               0.0              1.0                      0.0   \n",
       "3               0.0              0.0                      0.0   \n",
       "4               0.0              0.0                      0.0   \n",
       "\n",
       "  Control_behavior_difficulty Friends_difficulty Anxious_nervous_worried  \\\n",
       "0                         0.0                0.0                   Never   \n",
       "1                         0.0                0.0      A few times a year   \n",
       "2                         0.0                0.0                  Weekly   \n",
       "3                         0.0                0.0                   Daily   \n",
       "4                         1.0                0.0                   Daily   \n",
       "\n",
       "        Sad_depressed                                             Status  \\\n",
       "0               Never                         Never He/ She go to school   \n",
       "1  A few times a year  He /She gone before but he / she leaked  from ...   \n",
       "2               Never  He /She gone before but he / she leaked  from ...   \n",
       "3               Daily  He /She gone before but he / she leaked  from ...   \n",
       "4               Daily  He /She gone before but he / she leaked  from ...   \n",
       "\n",
       "  Cause_of_difficulty Specialized_services_provided  \n",
       "0                 NaN                           NaN  \n",
       "1                 NaN                           NaN  \n",
       "2     Other (specify)                           Yes  \n",
       "3       I do not know                           Yes  \n",
       "4       I do not know                           Yes  \n",
       "\n",
       "[5 rows x 48 columns]"
      ]
     },
     "execution_count": 413,
     "metadata": {},
     "output_type": "execute_result"
    }
   ],
   "source": [
    "df = pd.read_csv('data/data_simplified.csv')\n",
    "df.head()"
   ]
  },
  {
   "cell_type": "code",
   "execution_count": 9,
   "metadata": {
    "slideshow": {
     "slide_type": "slide"
    }
   },
   "outputs": [
    {
     "data": {
      "text/plain": [
       "(3516, 48)"
      ]
     },
     "execution_count": 9,
     "metadata": {},
     "output_type": "execute_result"
    }
   ],
   "source": [
    "df.shape"
   ]
  },
  {
   "cell_type": "code",
   "execution_count": 12,
   "metadata": {
    "slideshow": {
     "slide_type": "slide"
    }
   },
   "outputs": [
    {
     "data": {
      "image/png": "[encoded data removed]",
      "text/plain": [
       "<Figure size 432x288 with 1 Axes>"
      ]
     },
     "metadata": {},
     "output_type": "display_data"
    }
   ],
   "source": [
    "g = sns.countplot(x='Age', hue='Status', data=df);\n",
    "g.legend(loc='center left', bbox_to_anchor=(1, 0.75), ncol=1);\n",
    "g.set_title('School status by Age');"
   ]
  },
  {
   "cell_type": "code",
   "execution_count": 414,
   "metadata": {
    "slideshow": {
     "slide_type": "slide"
    }
   },
   "outputs": [],
   "source": [
    "#convert Yes values to 1, No values to 0\n",
    "df.replace('Yes', 1, inplace=True)\n",
    "df.replace('No', 0, inplace=True)"
   ]
  },
  {
   "cell_type": "code",
   "execution_count": 415,
   "metadata": {
    "slideshow": {
     "slide_type": "slide"
    }
   },
   "outputs": [
    {
     "data": {
      "text/plain": [
       "Regular time 4 - 5 times / week                         1717\n",
       "NaN                                                     1548\n",
       "Never He/ She go to school                               155\n",
       "Part time 1 - 3 times / week                              53\n",
       "He /She gone before but he / she leaked  from school      43\n",
       "Name: Status, dtype: int64"
      ]
     },
     "execution_count": 415,
     "metadata": {},
     "output_type": "execute_result"
    }
   ],
   "source": [
    "df.Status.value_counts(dropna=False)"
   ]
  },
  {
   "cell_type": "code",
   "execution_count": 416,
   "metadata": {
    "slideshow": {
     "slide_type": "fragment"
    }
   },
   "outputs": [
    {
     "data": {
      "text/plain": [
       "Regular time 4 - 5 times / week                         1717\n",
       "Never He/ She go to school                               155\n",
       "Part time 1 - 3 times / week                              53\n",
       "He /She gone before but he / she leaked  from school      43\n",
       "Name: Status, dtype: int64"
      ]
     },
     "execution_count": 416,
     "metadata": {},
     "output_type": "execute_result"
    }
   ],
   "source": [
    "#drop rows where Status is null\n",
    "df = df.dropna(axis=0, subset=['Status'])\n",
    "df.Status.value_counts(dropna=False)"
   ]
  },
  {
   "cell_type": "code",
   "execution_count": 17,
   "metadata": {
    "slideshow": {
     "slide_type": "fragment"
    }
   },
   "outputs": [
    {
     "data": {
      "text/plain": [
       "(1968, 48)"
      ]
     },
     "execution_count": 17,
     "metadata": {},
     "output_type": "execute_result"
    }
   ],
   "source": [
    "df.shape"
   ]
  },
  {
   "cell_type": "code",
   "execution_count": 417,
   "metadata": {
    "slideshow": {
     "slide_type": "fragment"
    }
   },
   "outputs": [
    {
     "data": {
      "text/plain": [
       "1    1770\n",
       "0     198\n",
       "Name: Status, dtype: int64"
      ]
     },
     "execution_count": 417,
     "metadata": {},
     "output_type": "execute_result"
    }
   ],
   "source": [
    "#convert Status column to 1 or 0 indicating whether or not they go to school\n",
    "df.Status = df.Status.map({\n",
    "    'Regular time 4 - 5 times / week': 1, \n",
    "    'Part time 1 - 3 times / week': 1,\n",
    "    'He /She gone before but he / she leaked  from school': 0,\n",
    "    'Never He/ She go to school': 0\n",
    "})\n",
    "df.Status.value_counts()"
   ]
  },
  {
   "cell_type": "code",
   "execution_count": 19,
   "metadata": {
    "slideshow": {
     "slide_type": "slide"
    }
   },
   "outputs": [
    {
     "data": {
      "text/plain": [
       "Date                                           0.000000\n",
       "Syrian                                         0.000000\n",
       "Country                                        0.000000\n",
       "Governorate                                    0.000000\n",
       "UNHCR_registration                             0.000000\n",
       "Housing                                        0.000000\n",
       "Housing_electricity                            0.000000\n",
       "Housing_mobility                               0.000508\n",
       "Housing_fear_attack_harrassment                0.000000\n",
       "Housing_fear_harm_injuries                     0.265244\n",
       "Health_recent_medical_need                     0.000000\n",
       "Health_access_medical_services                 0.154980\n",
       "Water_safe                                     0.000000\n",
       "Latrine_clean                                  0.000000\n",
       "Latrine_accessible                             0.000000\n",
       "Latrine_always_available                       0.000508\n",
       "Latrine_fear_attack_harassment                 0.000508\n",
       "Latrine_fear_harm_injuries                     0.265244\n",
       "Food_assistance                                0.000000\n",
       "Cash_assistance                                0.000000\n",
       "Monthly_income                                 0.000000\n",
       "Total_debt                                     0.000000\n",
       "Age                                            0.000000\n",
       "Gender                                         0.000000\n",
       "Working_over_5                                 0.000000\n",
       "Education_over_13                              1.000000\n",
       "Education_mother                               0.000000\n",
       "Glasses_contacts                               0.000000\n",
       "Seeing_difficulty                              0.026931\n",
       "Hearing_aid                                    0.042175\n",
       "Hearing_sounds_music_difficulty                0.047256\n",
       "Walking_aid                                    0.043191\n",
       "Walking_100m_difficulty                        0.049797\n",
       "Walking_500m_difficulty                        0.055894\n",
       "Selfcare_difficulty                            0.043191\n",
       "Understanding_him_inside_family_difficulty     0.000000\n",
       "Understanding_him_outside_family_difficulty    0.000000\n",
       "Learning_difficulty                            0.000000\n",
       "Memory_difficulty                              0.000000\n",
       "Focus_difficulty                               0.000000\n",
       "Accept_change_difficulty                       0.000000\n",
       "Control_behavior_difficulty                    0.000000\n",
       "Friends_difficulty                             0.000000\n",
       "Anxious_nervous_worried                        0.000000\n",
       "Sad_depressed                                  0.000000\n",
       "Status                                         0.000000\n",
       "Cause_of_difficulty                            0.821646\n",
       "Specialized_services_provided                  0.821646\n",
       "dtype: float64"
      ]
     },
     "execution_count": 19,
     "metadata": {},
     "output_type": "execute_result"
    }
   ],
   "source": [
    "#check for null values\n",
    "df.isnull().sum() / len(df)"
   ]
  },
  {
   "cell_type": "code",
   "execution_count": 418,
   "metadata": {
    "slideshow": {
     "slide_type": "slide"
    }
   },
   "outputs": [],
   "source": [
    "df.drop(['Syrian', 'Education_over_13', 'Cause_of_difficulty', 'Specialized_services_provided'], axis=1, inplace=True)"
   ]
  },
  {
   "cell_type": "code",
   "execution_count": 419,
   "metadata": {
    "slideshow": {
     "slide_type": "slide"
    }
   },
   "outputs": [],
   "source": [
    "numerical_features = df.select_dtypes(include=['int64','float64'])\n",
    "categorical_features = df.select_dtypes(include='object')"
   ]
  },
  {
   "cell_type": "code",
   "execution_count": 22,
   "metadata": {
    "slideshow": {
     "slide_type": "fragment"
    }
   },
   "outputs": [
    {
     "data": {
      "text/plain": [
       "Date                       0\n",
       "Country                    0\n",
       "Governorate                0\n",
       "Monthly_income             0\n",
       "Total_debt                 0\n",
       "Gender                     0\n",
       "Education_mother           0\n",
       "Anxious_nervous_worried    0\n",
       "Sad_depressed              0\n",
       "dtype: int64"
      ]
     },
     "execution_count": 22,
     "metadata": {},
     "output_type": "execute_result"
    }
   ],
   "source": [
    "categorical_features.isnull().sum()"
   ]
  },
  {
   "cell_type": "code",
   "execution_count": 23,
   "metadata": {
    "slideshow": {
     "slide_type": "fragment"
    }
   },
   "outputs": [
    {
     "data": {
      "text/plain": [
       "UNHCR_registration                               0\n",
       "Housing                                          0\n",
       "Housing_electricity                              0\n",
       "Housing_mobility                                 1\n",
       "Housing_fear_attack_harrassment                  0\n",
       "Housing_fear_harm_injuries                     522\n",
       "Health_recent_medical_need                       0\n",
       "Health_access_medical_services                 305\n",
       "Water_safe                                       0\n",
       "Latrine_clean                                    0\n",
       "Latrine_accessible                               0\n",
       "Latrine_always_available                         1\n",
       "Latrine_fear_attack_harassment                   1\n",
       "Latrine_fear_harm_injuries                     522\n",
       "Food_assistance                                  0\n",
       "Cash_assistance                                  0\n",
       "Age                                              0\n",
       "Working_over_5                                   0\n",
       "Glasses_contacts                                 0\n",
       "Seeing_difficulty                               53\n",
       "Hearing_aid                                     83\n",
       "Hearing_sounds_music_difficulty                 93\n",
       "Walking_aid                                     85\n",
       "Walking_100m_difficulty                         98\n",
       "Walking_500m_difficulty                        110\n",
       "Selfcare_difficulty                             85\n",
       "Understanding_him_inside_family_difficulty       0\n",
       "Understanding_him_outside_family_difficulty      0\n",
       "Learning_difficulty                              0\n",
       "Memory_difficulty                                0\n",
       "Focus_difficulty                                 0\n",
       "Accept_change_difficulty                         0\n",
       "Control_behavior_difficulty                      0\n",
       "Friends_difficulty                               0\n",
       "Status                                           0\n",
       "dtype: int64"
      ]
     },
     "execution_count": 23,
     "metadata": {},
     "output_type": "execute_result"
    }
   ],
   "source": [
    "numerical_features.isnull().sum()"
   ]
  },
  {
   "cell_type": "code",
   "execution_count": 420,
   "metadata": {
    "slideshow": {
     "slide_type": "slide"
    }
   },
   "outputs": [],
   "source": [
    "#fill in null numerical values with 0\n",
    "null_numerical_cols = numerical_features.columns.tolist()\n",
    "for col in null_numerical_cols:\n",
    "    df[col].fillna(0, inplace=True)\n",
    "    df[col] = df[col].astype(int)"
   ]
  },
  {
   "cell_type": "code",
   "execution_count": 25,
   "metadata": {
    "slideshow": {
     "slide_type": "skip"
    }
   },
   "outputs": [
    {
     "data": {
      "text/plain": [
       "Date                                           0\n",
       "Country                                        0\n",
       "Governorate                                    0\n",
       "UNHCR_registration                             0\n",
       "Housing                                        0\n",
       "Housing_electricity                            0\n",
       "Housing_mobility                               0\n",
       "Housing_fear_attack_harrassment                0\n",
       "Housing_fear_harm_injuries                     0\n",
       "Health_recent_medical_need                     0\n",
       "Health_access_medical_services                 0\n",
       "Water_safe                                     0\n",
       "Latrine_clean                                  0\n",
       "Latrine_accessible                             0\n",
       "Latrine_always_available                       0\n",
       "Latrine_fear_attack_harassment                 0\n",
       "Latrine_fear_harm_injuries                     0\n",
       "Food_assistance                                0\n",
       "Cash_assistance                                0\n",
       "Monthly_income                                 0\n",
       "Total_debt                                     0\n",
       "Age                                            0\n",
       "Gender                                         0\n",
       "Working_over_5                                 0\n",
       "Education_mother                               0\n",
       "Glasses_contacts                               0\n",
       "Seeing_difficulty                              0\n",
       "Hearing_aid                                    0\n",
       "Hearing_sounds_music_difficulty                0\n",
       "Walking_aid                                    0\n",
       "Walking_100m_difficulty                        0\n",
       "Walking_500m_difficulty                        0\n",
       "Selfcare_difficulty                            0\n",
       "Understanding_him_inside_family_difficulty     0\n",
       "Understanding_him_outside_family_difficulty    0\n",
       "Learning_difficulty                            0\n",
       "Memory_difficulty                              0\n",
       "Focus_difficulty                               0\n",
       "Accept_change_difficulty                       0\n",
       "Control_behavior_difficulty                    0\n",
       "Friends_difficulty                             0\n",
       "Anxious_nervous_worried                        0\n",
       "Sad_depressed                                  0\n",
       "Status                                         0\n",
       "dtype: int64"
      ]
     },
     "execution_count": 25,
     "metadata": {},
     "output_type": "execute_result"
    }
   ],
   "source": [
    "df.isnull().sum()"
   ]
  },
  {
   "cell_type": "code",
   "execution_count": 26,
   "metadata": {
    "slideshow": {
     "slide_type": "skip"
    }
   },
   "outputs": [
    {
     "data": {
      "text/plain": [
       "Date                                           object\n",
       "Country                                        object\n",
       "Governorate                                    object\n",
       "UNHCR_registration                              int64\n",
       "Housing                                         int64\n",
       "Housing_electricity                             int64\n",
       "Housing_mobility                                int64\n",
       "Housing_fear_attack_harrassment                 int64\n",
       "Housing_fear_harm_injuries                      int64\n",
       "Health_recent_medical_need                      int64\n",
       "Health_access_medical_services                  int64\n",
       "Water_safe                                      int64\n",
       "Latrine_clean                                   int64\n",
       "Latrine_accessible                              int64\n",
       "Latrine_always_available                        int64\n",
       "Latrine_fear_attack_harassment                  int64\n",
       "Latrine_fear_harm_injuries                      int64\n",
       "Food_assistance                                 int64\n",
       "Cash_assistance                                 int64\n",
       "Monthly_income                                 object\n",
       "Total_debt                                     object\n",
       "Age                                             int64\n",
       "Gender                                         object\n",
       "Working_over_5                                  int64\n",
       "Education_mother                               object\n",
       "Glasses_contacts                                int64\n",
       "Seeing_difficulty                               int64\n",
       "Hearing_aid                                     int64\n",
       "Hearing_sounds_music_difficulty                 int64\n",
       "Walking_aid                                     int64\n",
       "Walking_100m_difficulty                         int64\n",
       "Walking_500m_difficulty                         int64\n",
       "Selfcare_difficulty                             int64\n",
       "Understanding_him_inside_family_difficulty      int64\n",
       "Understanding_him_outside_family_difficulty     int64\n",
       "Learning_difficulty                             int64\n",
       "Memory_difficulty                               int64\n",
       "Focus_difficulty                                int64\n",
       "Accept_change_difficulty                        int64\n",
       "Control_behavior_difficulty                     int64\n",
       "Friends_difficulty                              int64\n",
       "Anxious_nervous_worried                        object\n",
       "Sad_depressed                                  object\n",
       "Status                                          int64\n",
       "dtype: object"
      ]
     },
     "execution_count": 26,
     "metadata": {},
     "output_type": "execute_result"
    }
   ],
   "source": [
    "df.dtypes"
   ]
  },
  {
   "cell_type": "code",
   "execution_count": 421,
   "metadata": {
    "slideshow": {
     "slide_type": "slide"
    }
   },
   "outputs": [
    {
     "data": {
      "text/plain": [
       "200.0    609\n",
       "300.0    426\n",
       "50.0     335\n",
       "100.0    255\n",
       "500.0    150\n",
       "700.0     32\n",
       "Name: Monthly_income, dtype: int64"
      ]
     },
     "execution_count": 421,
     "metadata": {},
     "output_type": "execute_result"
    }
   ],
   "source": [
    "#convert currency to average US buckets\n",
    "df.Monthly_income = df.Monthly_income.map({\n",
    "    '0-49JD': 50,\n",
    "    '0-74.000 LL (50$)': 50,\n",
    "    '50JD-99JD': 100,\n",
    "    '75.000 LL- 149.000 LL (100$)': 100,\n",
    "    '100JD – 199JD': 200, \n",
    "    '150.000 LL- 299.000 LL (200 $)': 200,\n",
    "    '200JD – 299JD': 300,\n",
    "    '300.000 LL-449.000 LL (300 $)': 300,\n",
    "    '300JD-  499JD ': 500,\n",
    "    '500JD – 699JD': 500,\n",
    "    '450.000 LL – 699.000 LL (460 $)': 500,\n",
    "    'More than 700JD': 700,\n",
    "    'More than 700.000 LL': 700\n",
    "})\n",
    "df.Monthly_income.value_counts()"
   ]
  },
  {
   "cell_type": "code",
   "execution_count": 422,
   "metadata": {
    "slideshow": {
     "slide_type": "fragment"
    }
   },
   "outputs": [],
   "source": [
    "df['Monthly_income'].fillna(0, inplace=True)\n",
    "df.Monthly_income = df.Monthly_income.astype(int)"
   ]
  },
  {
   "cell_type": "code",
   "execution_count": 423,
   "metadata": {
    "slideshow": {
     "slide_type": "slide"
    }
   },
   "outputs": [
    {
     "data": {
      "text/plain": [
       "700.0    672\n",
       "50.0     511\n",
       "500.0    210\n",
       "NaN      175\n",
       "200.0    149\n",
       "100.0    126\n",
       "300.0    125\n",
       "Name: Total_debt, dtype: int64"
      ]
     },
     "execution_count": 423,
     "metadata": {},
     "output_type": "execute_result"
    }
   ],
   "source": [
    "#convert currency to average US buckets\n",
    "df.Total_debt = df.Total_debt.map({\n",
    "    '0-49JD': 50,\n",
    "    '0-74.000 LL (50$)': 50,\n",
    "    '50JD-99JD': 100,\n",
    "    '75.000 LL- 149.000 LL (100$)': 100,\n",
    "    '100JD – 199JD': 200, \n",
    "    '150.000 LL- 299.000 LL (200 $)': 200,\n",
    "    '200JD – 299JD': 300,\n",
    "    '300.000 LL-449.000 LL (300 $)': 300,\n",
    "    '300JD-  499JD ': 500,\n",
    "    '500JD – 699JD': 500,\n",
    "    '450.000 LL – 699.000 LL (460 $)': 500,\n",
    "    'More than 700JD': 700,\n",
    "    'More than 700.000 LL': 700\n",
    "})\n",
    "df.Total_debt.value_counts(dropna=False)"
   ]
  },
  {
   "cell_type": "code",
   "execution_count": 424,
   "metadata": {
    "slideshow": {
     "slide_type": "fragment"
    }
   },
   "outputs": [],
   "source": [
    "df['Total_debt'].fillna(0, inplace=True)\n",
    "df.Total_debt = df.Total_debt.astype(int)"
   ]
  },
  {
   "cell_type": "code",
   "execution_count": 425,
   "metadata": {
    "slideshow": {
     "slide_type": "skip"
    }
   },
   "outputs": [
    {
     "data": {
      "text/plain": [
       "Primary school                                            1302\n",
       "He did not study at school and could not read or write     314\n",
       "High School                                                162\n",
       "Without High School                                         94\n",
       "University degree                                           59\n",
       "He did not study at school but could read and write         24\n",
       "Diploma                                                     13\n",
       "Name: Education_mother, dtype: int64"
      ]
     },
     "execution_count": 425,
     "metadata": {},
     "output_type": "execute_result"
    }
   ],
   "source": [
    "df.Education_mother.value_counts(dropna=False)"
   ]
  },
  {
   "cell_type": "code",
   "execution_count": 426,
   "metadata": {
    "slideshow": {
     "slide_type": "slide"
    }
   },
   "outputs": [
    {
     "data": {
      "text/plain": [
       "1    1630\n",
       "0     338\n",
       "Name: Education_mother, dtype: int64"
      ]
     },
     "execution_count": 426,
     "metadata": {},
     "output_type": "execute_result"
    }
   ],
   "source": [
    "#simplify mother's education to whether they had any schooling or not\n",
    "df.Education_mother = df.Education_mother.map({\n",
    "    'Primary school': 1,\n",
    "    'He did not study at school and could not read or write': 0,\n",
    "    'High School': 1,\n",
    "    'Without High School': 1,\n",
    "    'University degree': 1, \n",
    "    'He did not study at school but could read and write': 0,\n",
    "    'Diploma': 1\n",
    "})\n",
    "df.Education_mother.value_counts(dropna=False)"
   ]
  },
  {
   "cell_type": "code",
   "execution_count": 427,
   "metadata": {
    "slideshow": {
     "slide_type": "skip"
    }
   },
   "outputs": [
    {
     "data": {
      "text/plain": [
       "Never                 1145\n",
       "A few times a year     228\n",
       "Monthly                209\n",
       "Daily                  203\n",
       "Weekly                 183\n",
       "Name: Anxious_nervous_worried, dtype: int64"
      ]
     },
     "execution_count": 427,
     "metadata": {},
     "output_type": "execute_result"
    }
   ],
   "source": [
    "df.Anxious_nervous_worried.value_counts(dropna=False)"
   ]
  },
  {
   "cell_type": "code",
   "execution_count": 428,
   "metadata": {
    "slideshow": {
     "slide_type": "slide"
    }
   },
   "outputs": [
    {
     "data": {
      "text/plain": [
       "0    1373\n",
       "1     595\n",
       "Name: Anxious_nervous_worried, dtype: int64"
      ]
     },
     "execution_count": 428,
     "metadata": {},
     "output_type": "execute_result"
    }
   ],
   "source": [
    "df.Anxious_nervous_worried = df.Anxious_nervous_worried.map({\n",
    "    'Never': 0,\n",
    "    'A few times a year': 0,\n",
    "    'Monthly': 1,\n",
    "    'Daily': 1,\n",
    "    'Weekly': 1\n",
    "})\n",
    "df.Anxious_nervous_worried.value_counts(dropna=False)"
   ]
  },
  {
   "cell_type": "code",
   "execution_count": 35,
   "metadata": {
    "slideshow": {
     "slide_type": "skip"
    }
   },
   "outputs": [
    {
     "data": {
      "text/plain": [
       "Never                 1436\n",
       "A few times a year     190\n",
       "Monthly                119\n",
       "Daily                  115\n",
       "Weekly                 108\n",
       "Name: Sad_depressed, dtype: int64"
      ]
     },
     "execution_count": 35,
     "metadata": {},
     "output_type": "execute_result"
    }
   ],
   "source": [
    "df.Sad_depressed.value_counts(dropna=False)"
   ]
  },
  {
   "cell_type": "code",
   "execution_count": 429,
   "metadata": {
    "slideshow": {
     "slide_type": "fragment"
    }
   },
   "outputs": [
    {
     "data": {
      "text/plain": [
       "0    1626\n",
       "1     342\n",
       "Name: Sad_depressed, dtype: int64"
      ]
     },
     "execution_count": 429,
     "metadata": {},
     "output_type": "execute_result"
    }
   ],
   "source": [
    "df.Sad_depressed = df.Sad_depressed.map({\n",
    "    'Never': 0,\n",
    "    'A few times a year': 0,\n",
    "    'Monthly': 1,\n",
    "    'Daily': 1,\n",
    "    'Weekly': 1\n",
    "})\n",
    "df.Sad_depressed.value_counts(dropna=False)"
   ]
  },
  {
   "cell_type": "code",
   "execution_count": 430,
   "metadata": {
    "slideshow": {
     "slide_type": "slide"
    }
   },
   "outputs": [],
   "source": [
    "df = pd.get_dummies(df, columns=['Country','Governorate','Gender'], drop_first=True)"
   ]
  },
  {
   "cell_type": "code",
   "execution_count": 431,
   "metadata": {
    "slideshow": {
     "slide_type": "fragment"
    }
   },
   "outputs": [],
   "source": [
    "df.drop(['Date'], axis=1, inplace=True)"
   ]
  },
  {
   "cell_type": "code",
   "execution_count": 432,
   "metadata": {
    "slideshow": {
     "slide_type": "slide"
    }
   },
   "outputs": [
    {
     "data": {
      "text/plain": [
       "(1968, 45)"
      ]
     },
     "execution_count": 432,
     "metadata": {},
     "output_type": "execute_result"
    }
   ],
   "source": [
    "df.shape"
   ]
  },
  {
   "cell_type": "code",
   "execution_count": 41,
   "metadata": {
    "slideshow": {
     "slide_type": "fragment"
    }
   },
   "outputs": [
    {
     "data": {
      "text/html": [
       "<div>\n",
       "<style scoped>\n",
       "    .dataframe tbody tr th:only-of-type {\n",
       "        vertical-align: middle;\n",
       "    }\n",
       "\n",
       "    .dataframe tbody tr th {\n",
       "        vertical-align: top;\n",
       "    }\n",
       "\n",
       "    .dataframe thead th {\n",
       "        text-align: right;\n",
       "    }\n",
       "</style>\n",
       "<table border=\"1\" class=\"dataframe\">\n",
       "  <thead>\n",
       "    <tr style=\"text-align: right;\">\n",
       "      <th></th>\n",
       "      <th>UNHCR_registration</th>\n",
       "      <th>Housing</th>\n",
       "      <th>Housing_electricity</th>\n",
       "      <th>Housing_mobility</th>\n",
       "      <th>Housing_fear_attack_harrassment</th>\n",
       "      <th>Housing_fear_harm_injuries</th>\n",
       "      <th>Health_recent_medical_need</th>\n",
       "      <th>Health_access_medical_services</th>\n",
       "      <th>Water_safe</th>\n",
       "      <th>Latrine_clean</th>\n",
       "      <th>...</th>\n",
       "      <th>Control_behavior_difficulty</th>\n",
       "      <th>Friends_difficulty</th>\n",
       "      <th>Anxious_nervous_worried</th>\n",
       "      <th>Sad_depressed</th>\n",
       "      <th>Status</th>\n",
       "      <th>Country_Lebanon</th>\n",
       "      <th>Governorate_Bekaa</th>\n",
       "      <th>Governorate_Irbid</th>\n",
       "      <th>Governorate_Mafraq</th>\n",
       "      <th>Gender_Male</th>\n",
       "    </tr>\n",
       "  </thead>\n",
       "  <tbody>\n",
       "    <tr>\n",
       "      <th>0</th>\n",
       "      <td>1</td>\n",
       "      <td>1</td>\n",
       "      <td>1</td>\n",
       "      <td>1</td>\n",
       "      <td>0</td>\n",
       "      <td>0</td>\n",
       "      <td>1</td>\n",
       "      <td>1</td>\n",
       "      <td>1</td>\n",
       "      <td>1</td>\n",
       "      <td>...</td>\n",
       "      <td>0</td>\n",
       "      <td>0</td>\n",
       "      <td>0</td>\n",
       "      <td>0</td>\n",
       "      <td>0</td>\n",
       "      <td>0</td>\n",
       "      <td>0</td>\n",
       "      <td>1</td>\n",
       "      <td>0</td>\n",
       "      <td>1</td>\n",
       "    </tr>\n",
       "    <tr>\n",
       "      <th>1</th>\n",
       "      <td>1</td>\n",
       "      <td>1</td>\n",
       "      <td>1</td>\n",
       "      <td>1</td>\n",
       "      <td>0</td>\n",
       "      <td>0</td>\n",
       "      <td>1</td>\n",
       "      <td>0</td>\n",
       "      <td>1</td>\n",
       "      <td>1</td>\n",
       "      <td>...</td>\n",
       "      <td>0</td>\n",
       "      <td>0</td>\n",
       "      <td>0</td>\n",
       "      <td>0</td>\n",
       "      <td>0</td>\n",
       "      <td>1</td>\n",
       "      <td>1</td>\n",
       "      <td>0</td>\n",
       "      <td>0</td>\n",
       "      <td>0</td>\n",
       "    </tr>\n",
       "    <tr>\n",
       "      <th>2</th>\n",
       "      <td>1</td>\n",
       "      <td>1</td>\n",
       "      <td>1</td>\n",
       "      <td>1</td>\n",
       "      <td>1</td>\n",
       "      <td>1</td>\n",
       "      <td>1</td>\n",
       "      <td>1</td>\n",
       "      <td>1</td>\n",
       "      <td>1</td>\n",
       "      <td>...</td>\n",
       "      <td>0</td>\n",
       "      <td>0</td>\n",
       "      <td>1</td>\n",
       "      <td>0</td>\n",
       "      <td>0</td>\n",
       "      <td>0</td>\n",
       "      <td>0</td>\n",
       "      <td>0</td>\n",
       "      <td>1</td>\n",
       "      <td>1</td>\n",
       "    </tr>\n",
       "    <tr>\n",
       "      <th>3</th>\n",
       "      <td>1</td>\n",
       "      <td>1</td>\n",
       "      <td>1</td>\n",
       "      <td>0</td>\n",
       "      <td>0</td>\n",
       "      <td>0</td>\n",
       "      <td>1</td>\n",
       "      <td>1</td>\n",
       "      <td>1</td>\n",
       "      <td>1</td>\n",
       "      <td>...</td>\n",
       "      <td>0</td>\n",
       "      <td>0</td>\n",
       "      <td>1</td>\n",
       "      <td>1</td>\n",
       "      <td>0</td>\n",
       "      <td>0</td>\n",
       "      <td>0</td>\n",
       "      <td>0</td>\n",
       "      <td>1</td>\n",
       "      <td>1</td>\n",
       "    </tr>\n",
       "    <tr>\n",
       "      <th>4</th>\n",
       "      <td>1</td>\n",
       "      <td>1</td>\n",
       "      <td>1</td>\n",
       "      <td>1</td>\n",
       "      <td>0</td>\n",
       "      <td>0</td>\n",
       "      <td>1</td>\n",
       "      <td>1</td>\n",
       "      <td>1</td>\n",
       "      <td>1</td>\n",
       "      <td>...</td>\n",
       "      <td>1</td>\n",
       "      <td>0</td>\n",
       "      <td>1</td>\n",
       "      <td>1</td>\n",
       "      <td>0</td>\n",
       "      <td>0</td>\n",
       "      <td>0</td>\n",
       "      <td>0</td>\n",
       "      <td>1</td>\n",
       "      <td>1</td>\n",
       "    </tr>\n",
       "  </tbody>\n",
       "</table>\n",
       "<p>5 rows × 45 columns</p>\n",
       "</div>"
      ],
      "text/plain": [
       "   UNHCR_registration  Housing  Housing_electricity  Housing_mobility  \\\n",
       "0                   1        1                    1                 1   \n",
       "1                   1        1                    1                 1   \n",
       "2                   1        1                    1                 1   \n",
       "3                   1        1                    1                 0   \n",
       "4                   1        1                    1                 1   \n",
       "\n",
       "   Housing_fear_attack_harrassment  Housing_fear_harm_injuries  \\\n",
       "0                                0                           0   \n",
       "1                                0                           0   \n",
       "2                                1                           1   \n",
       "3                                0                           0   \n",
       "4                                0                           0   \n",
       "\n",
       "   Health_recent_medical_need  Health_access_medical_services  Water_safe  \\\n",
       "0                           1                               1           1   \n",
       "1                           1                               0           1   \n",
       "2                           1                               1           1   \n",
       "3                           1                               1           1   \n",
       "4                           1                               1           1   \n",
       "\n",
       "   Latrine_clean  ...  Control_behavior_difficulty  Friends_difficulty  \\\n",
       "0              1  ...                            0                   0   \n",
       "1              1  ...                            0                   0   \n",
       "2              1  ...                            0                   0   \n",
       "3              1  ...                            0                   0   \n",
       "4              1  ...                            1                   0   \n",
       "\n",
       "   Anxious_nervous_worried  Sad_depressed  Status  Country_Lebanon  \\\n",
       "0                        0              0       0                0   \n",
       "1                        0              0       0                1   \n",
       "2                        1              0       0                0   \n",
       "3                        1              1       0                0   \n",
       "4                        1              1       0                0   \n",
       "\n",
       "   Governorate_Bekaa  Governorate_Irbid  Governorate_Mafraq  Gender_Male  \n",
       "0                  0                  1                   0            1  \n",
       "1                  1                  0                   0            0  \n",
       "2                  0                  0                   1            1  \n",
       "3                  0                  0                   1            1  \n",
       "4                  0                  0                   1            1  \n",
       "\n",
       "[5 rows x 45 columns]"
      ]
     },
     "execution_count": 41,
     "metadata": {},
     "output_type": "execute_result"
    }
   ],
   "source": [
    "df.head()"
   ]
  },
  {
   "cell_type": "markdown",
   "metadata": {
    "slideshow": {
     "slide_type": "slide"
    }
   },
   "source": [
    "### Test, train, split"
   ]
  },
  {
   "cell_type": "code",
   "execution_count": 68,
   "metadata": {
    "slideshow": {
     "slide_type": "fragment"
    }
   },
   "outputs": [],
   "source": [
    "y = df['Status']\n",
    "X = df.drop('Status',1) "
   ]
  },
  {
   "cell_type": "code",
   "execution_count": 305,
   "metadata": {
    "slideshow": {
     "slide_type": "fragment"
    }
   },
   "outputs": [],
   "source": [
    "from sklearn.model_selection import train_test_split\n",
    "\n",
    "X_train, X_test, y_train, y_test = train_test_split(X, y, test_size=0.2, random_state=1)"
   ]
  },
  {
   "cell_type": "markdown",
   "metadata": {
    "slideshow": {
     "slide_type": "slide"
    }
   },
   "source": [
    "## Feature selection"
   ]
  },
  {
   "cell_type": "markdown",
   "metadata": {
    "slideshow": {
     "slide_type": "slide"
    }
   },
   "source": [
    "### Univariate feature selection \n",
    "* works by selecting the best features based on univariate statistical tests"
   ]
  },
  {
   "cell_type": "code",
   "execution_count": 249,
   "metadata": {
    "slideshow": {
     "slide_type": "fragment"
    }
   },
   "outputs": [],
   "source": [
    "from sklearn.feature_selection import SelectKBest, chi2, f_classif"
   ]
  },
  {
   "cell_type": "code",
   "execution_count": 306,
   "metadata": {
    "slideshow": {
     "slide_type": "fragment"
    }
   },
   "outputs": [
    {
     "data": {
      "text/plain": [
       "[(nan, 'Housing'),\n",
       " (63.831, 'Friends_difficulty'),\n",
       " (45.972, 'Selfcare_difficulty'),\n",
       " (35.807, 'Working_over_5'),\n",
       " (33.717, 'Accept_change_difficulty'),\n",
       " (32.4, 'Governorate_Bekaa'),\n",
       " (32.4, 'Country_Lebanon'),\n",
       " (30.046, 'Focus_difficulty'),\n",
       " (28.997, 'Control_behavior_difficulty'),\n",
       " (23.78, 'Age'),\n",
       " (19.965, 'Understanding_him_inside_family_difficulty')]"
      ]
     },
     "execution_count": 306,
     "metadata": {},
     "output_type": "execute_result"
    }
   ],
   "source": [
    "select_k = SelectKBest(score_func=f_classif, k='all')\n",
    "fit = select_k.fit(X_train, y_train)\n",
    "\n",
    "sorted(zip(map(lambda x: round(x, 3), fit.scores_), X_train.columns), reverse=True)[:11]"
   ]
  },
  {
   "cell_type": "code",
   "execution_count": 307,
   "metadata": {
    "slideshow": {
     "slide_type": "slide"
    }
   },
   "outputs": [
    {
     "data": {
      "text/plain": [
       "[(2687.434, 'Total_debt'),\n",
       " (114.671, 'Monthly_income'),\n",
       " (60.482, 'Friends_difficulty'),\n",
       " (44.069, 'Selfcare_difficulty'),\n",
       " (34.921, 'Working_over_5'),\n",
       " (32.463, 'Accept_change_difficulty'),\n",
       " (28.957, 'Focus_difficulty'),\n",
       " (27.548, 'Control_behavior_difficulty'),\n",
       " (22.476, 'Governorate_Bekaa'),\n",
       " (22.476, 'Country_Lebanon')]"
      ]
     },
     "execution_count": 307,
     "metadata": {},
     "output_type": "execute_result"
    }
   ],
   "source": [
    "select_k = SelectKBest(score_func=chi2, k='all')\n",
    "fit = select_k.fit(X_train, y_train)\n",
    "\n",
    "sorted(zip(map(lambda x: round(x, 3), fit.scores_), X_train.columns), reverse=True)[:10]"
   ]
  },
  {
   "cell_type": "markdown",
   "metadata": {
    "slideshow": {
     "slide_type": "slide"
    }
   },
   "source": [
    "### Trying recursive feature elimination\n",
    "* recursively removes the weakest feature until the specified number of features is reached"
   ]
  },
  {
   "cell_type": "code",
   "execution_count": 322,
   "metadata": {
    "slideshow": {
     "slide_type": "fragment"
    }
   },
   "outputs": [
    {
     "data": {
      "text/plain": [
       "[(1, 'Friends_difficulty'),\n",
       " (2, 'Working_over_5'),\n",
       " (3, 'Housing'),\n",
       " (4, 'Hearing_sounds_music_difficulty'),\n",
       " (5, 'Seeing_difficulty'),\n",
       " (6, 'Control_behavior_difficulty'),\n",
       " (7, 'Governorate_Bekaa'),\n",
       " (8, 'Glasses_contacts'),\n",
       " (9, 'Selfcare_difficulty'),\n",
       " (10, 'Education_mother')]"
      ]
     },
     "execution_count": 322,
     "metadata": {},
     "output_type": "execute_result"
    }
   ],
   "source": [
    "from sklearn.feature_selection import RFE\n",
    "from sklearn.linear_model import LogisticRegression\n",
    "\n",
    "logr = LogisticRegression()\n",
    "rfe = RFE(logr, n_features_to_select=1)\n",
    "rfe.fit(X_train, y_train)\n",
    " \n",
    "sorted(zip(rfe.ranking_, X_train.columns))[:10]"
   ]
  },
  {
   "cell_type": "markdown",
   "metadata": {
    "slideshow": {
     "slide_type": "slide"
    }
   },
   "source": [
    "### Recursive feature elimination with cross-validation"
   ]
  },
  {
   "cell_type": "code",
   "execution_count": 407,
   "metadata": {
    "slideshow": {
     "slide_type": "fragment"
    }
   },
   "outputs": [
    {
     "name": "stdout",
     "output_type": "stream",
     "text": [
      "Optimal number of features: 25\n"
     ]
    },
    {
     "data": {
      "text/plain": [
       "['UNHCR_registration',\n",
       " 'Housing',\n",
       " 'Housing_electricity',\n",
       " 'Housing_mobility',\n",
       " 'Housing_fear_harm_injuries',\n",
       " 'Water_safe',\n",
       " 'Latrine_clean',\n",
       " 'Working_over_5',\n",
       " 'Education_mother',\n",
       " 'Glasses_contacts',\n",
       " 'Seeing_difficulty',\n",
       " 'Hearing_sounds_music_difficulty',\n",
       " 'Walking_500m_difficulty',\n",
       " 'Selfcare_difficulty',\n",
       " 'Understanding_him_inside_family_difficulty',\n",
       " 'Learning_difficulty',\n",
       " 'Focus_difficulty',\n",
       " 'Accept_change_difficulty',\n",
       " 'Control_behavior_difficulty',\n",
       " 'Friends_difficulty',\n",
       " 'Country_Lebanon',\n",
       " 'Governorate_Bekaa',\n",
       " 'Governorate_Irbid',\n",
       " 'Governorate_Mafraq',\n",
       " 'Gender_Male']"
      ]
     },
     "execution_count": 407,
     "metadata": {},
     "output_type": "execute_result"
    }
   ],
   "source": [
    "from sklearn.feature_selection import RFECV\n",
    "\n",
    "rcv = RFECV(estimator=logr, cv=10)\n",
    "rcv.fit(X_train, y_train)\n",
    "print('Optimal number of features: %d'% rcv.n_features_)\n",
    "\n",
    "selected_features = X_train.columns[rcv.support_].tolist()\n",
    "selected_features"
   ]
  },
  {
   "cell_type": "code",
   "execution_count": 396,
   "metadata": {
    "slideshow": {
     "slide_type": "slide"
    }
   },
   "outputs": [
    {
     "data": {
      "text/plain": [
       "GridSearchCV(cv='warn', error_score='raise-deprecating',\n",
       "       estimator=Pipeline(memory=None,\n",
       "     steps=[('kbest', SelectKBest(k=10, score_func=<function f_classif at 0x1c2c823620>)), ('lr', LogisticRegression(C=1.0, class_weight=None, dual=False, fit_intercept=True,\n",
       "          intercept_scaling=1, max_iter=100, multi_class='warn',\n",
       "          n_jobs=None, penalty='l2', random_state=None, solver='warn',\n",
       "          tol=0.0001, verbose=0, warm_start=False))]),\n",
       "       fit_params=None, iid='warn', n_jobs=None,\n",
       "       param_grid={'kbest__k': [1, 10, 15, 20], 'kbest__score_func': [<function f_classif at 0x1c2c823620>, <function chi2 at 0x1c2c823730>], 'lr__C': array([1.e-10, 1.e-05, 1.e+00, 1.e+05, 1.e+10]), 'lr__penalty': ['l1', 'l2']},\n",
       "       pre_dispatch='2*n_jobs', refit=True, return_train_score='warn',\n",
       "       scoring=None, verbose=0)"
      ]
     },
     "execution_count": 396,
     "metadata": {},
     "output_type": "execute_result"
    }
   ],
   "source": [
    "from sklearn.pipeline import Pipeline\n",
    "from sklearn.model_selection import GridSearchCV\n",
    "\n",
    "grid_params = {\n",
    "    'kbest__k': [1,10,15,20], \n",
    "    'kbest__score_func': [f_classif, chi2], \n",
    "    'lr__C': np.logspace(-10, 10, 5),\n",
    "    'lr__penalty': ['l1', 'l2']\n",
    "}\n",
    "\n",
    "kbest = SelectKBest()\n",
    "pipeline = Pipeline([('kbest', kbest), ('lr', LogisticRegression())])\n",
    "grid_search = GridSearchCV(pipeline, grid_params)\n",
    "grid_search.fit(X_train, y_train)"
   ]
  },
  {
   "cell_type": "code",
   "execution_count": 397,
   "metadata": {
    "slideshow": {
     "slide_type": "slide"
    }
   },
   "outputs": [
    {
     "data": {
      "text/plain": [
       "{'kbest__k': 10,\n",
       " 'kbest__score_func': <function sklearn.feature_selection.univariate_selection.chi2(X, y)>,\n",
       " 'lr__C': 1.0,\n",
       " 'lr__penalty': 'l2'}"
      ]
     },
     "execution_count": 397,
     "metadata": {},
     "output_type": "execute_result"
    }
   ],
   "source": [
    "grid_search.best_params_"
   ]
  },
  {
   "cell_type": "code",
   "execution_count": 398,
   "metadata": {
    "slideshow": {
     "slide_type": "fragment"
    }
   },
   "outputs": [
    {
     "data": {
      "text/plain": [
       "Pipeline(memory=None,\n",
       "     steps=[('kbest', SelectKBest(k=10, score_func=<function chi2 at 0x1c2c823730>)), ('lr', LogisticRegression(C=1.0, class_weight=None, dual=False, fit_intercept=True,\n",
       "          intercept_scaling=1, max_iter=100, multi_class='warn',\n",
       "          n_jobs=None, penalty='l2', random_state=None, solver='warn',\n",
       "          tol=0.0001, verbose=0, warm_start=False))])"
      ]
     },
     "execution_count": 398,
     "metadata": {},
     "output_type": "execute_result"
    }
   ],
   "source": [
    "grid_search.best_estimator_"
   ]
  },
  {
   "cell_type": "code",
   "execution_count": 399,
   "metadata": {
    "slideshow": {
     "slide_type": "slide"
    }
   },
   "outputs": [],
   "source": [
    "pipeline = Pipeline([('kbest', SelectKBest(score_func=chi2, k=10)), ('lr', LogisticRegression(C=1.0, penalty='l2'))])"
   ]
  },
  {
   "cell_type": "code",
   "execution_count": 400,
   "metadata": {
    "slideshow": {
     "slide_type": "fragment"
    }
   },
   "outputs": [
    {
     "data": {
      "text/plain": [
       "Pipeline(memory=None,\n",
       "     steps=[('kbest', SelectKBest(k=10, score_func=<function chi2 at 0x1c2c823730>)), ('lr', LogisticRegression(C=1.0, class_weight=None, dual=False, fit_intercept=True,\n",
       "          intercept_scaling=1, max_iter=100, multi_class='warn',\n",
       "          n_jobs=None, penalty='l2', random_state=None, solver='warn',\n",
       "          tol=0.0001, verbose=0, warm_start=False))])"
      ]
     },
     "execution_count": 400,
     "metadata": {},
     "output_type": "execute_result"
    }
   ],
   "source": [
    "pipeline.fit(X_train, y_train)"
   ]
  },
  {
   "cell_type": "code",
   "execution_count": 401,
   "metadata": {
    "slideshow": {
     "slide_type": "fragment"
    }
   },
   "outputs": [],
   "source": [
    "y_pred = pipeline.predict(X_test)"
   ]
  },
  {
   "cell_type": "code",
   "execution_count": 402,
   "metadata": {
    "slideshow": {
     "slide_type": "fragment"
    }
   },
   "outputs": [
    {
     "data": {
      "text/plain": [
       "0.9111675126903553"
      ]
     },
     "execution_count": 402,
     "metadata": {},
     "output_type": "execute_result"
    }
   ],
   "source": [
    "pipeline.score(X_test, y_test)"
   ]
  },
  {
   "cell_type": "code",
   "execution_count": 403,
   "metadata": {
    "slideshow": {
     "slide_type": "slide"
    }
   },
   "outputs": [
    {
     "data": {
      "text/plain": [
       "array([[0.075, 0.925],\n",
       "       [0.154, 0.846],\n",
       "       [0.062, 0.938],\n",
       "       [0.074, 0.926],\n",
       "       [0.154, 0.846],\n",
       "       [0.062, 0.938],\n",
       "       [0.092, 0.908],\n",
       "       [0.061, 0.939],\n",
       "       [0.208, 0.792],\n",
       "       [0.126, 0.874],\n",
       "       [0.076, 0.924],\n",
       "       [0.119, 0.881],\n",
       "       [0.087, 0.913],\n",
       "       [0.174, 0.826],\n",
       "       [0.061, 0.939],\n",
       "       [0.062, 0.938],\n",
       "       [0.072, 0.928],\n",
       "       [0.065, 0.935],\n",
       "       [0.081, 0.919],\n",
       "       [0.119, 0.881],\n",
       "       [0.076, 0.924],\n",
       "       [0.17 , 0.83 ],\n",
       "       [0.119, 0.881],\n",
       "       [0.187, 0.813],\n",
       "       [0.077, 0.923],\n",
       "       [0.071, 0.929],\n",
       "       [0.062, 0.938],\n",
       "       [0.062, 0.938],\n",
       "       [0.119, 0.881],\n",
       "       [0.076, 0.924],\n",
       "       [0.071, 0.929],\n",
       "       [0.081, 0.919],\n",
       "       [0.099, 0.901],\n",
       "       [0.079, 0.921],\n",
       "       [0.062, 0.938],\n",
       "       [0.71 , 0.29 ],\n",
       "       [0.076, 0.924],\n",
       "       [0.119, 0.881],\n",
       "       [0.075, 0.925],\n",
       "       [0.165, 0.835],\n",
       "       [0.154, 0.846],\n",
       "       [0.064, 0.936],\n",
       "       [0.119, 0.881],\n",
       "       [0.137, 0.863],\n",
       "       [0.061, 0.939],\n",
       "       [0.07 , 0.93 ],\n",
       "       [0.112, 0.888],\n",
       "       [0.119, 0.881],\n",
       "       [0.076, 0.924],\n",
       "       [0.081, 0.919],\n",
       "       [0.08 , 0.92 ],\n",
       "       [0.054, 0.946],\n",
       "       [0.086, 0.914],\n",
       "       [0.075, 0.925],\n",
       "       [0.071, 0.929],\n",
       "       [0.054, 0.946],\n",
       "       [0.062, 0.938],\n",
       "       [0.075, 0.925],\n",
       "       [0.174, 0.826],\n",
       "       [0.076, 0.924],\n",
       "       [0.071, 0.929],\n",
       "       [0.062, 0.938],\n",
       "       [0.071, 0.929],\n",
       "       [0.116, 0.884],\n",
       "       [0.075, 0.925],\n",
       "       [0.208, 0.792],\n",
       "       [0.053, 0.947],\n",
       "       [0.065, 0.935],\n",
       "       [0.065, 0.935],\n",
       "       [0.112, 0.888],\n",
       "       [0.076, 0.924],\n",
       "       [0.092, 0.908],\n",
       "       [0.062, 0.938],\n",
       "       [0.065, 0.935],\n",
       "       [0.062, 0.938],\n",
       "       [0.075, 0.925],\n",
       "       [0.086, 0.914],\n",
       "       [0.075, 0.925],\n",
       "       [0.062, 0.938],\n",
       "       [0.186, 0.814],\n",
       "       [0.081, 0.919],\n",
       "       [0.119, 0.881],\n",
       "       [0.154, 0.846],\n",
       "       [0.071, 0.929],\n",
       "       [0.106, 0.894],\n",
       "       [0.119, 0.881],\n",
       "       [0.074, 0.926],\n",
       "       [0.145, 0.855],\n",
       "       [0.071, 0.929],\n",
       "       [0.172, 0.828],\n",
       "       [0.07 , 0.93 ],\n",
       "       [0.077, 0.923],\n",
       "       [0.092, 0.908],\n",
       "       [0.081, 0.919],\n",
       "       [0.074, 0.926],\n",
       "       [0.071, 0.929],\n",
       "       [0.075, 0.925],\n",
       "       [0.054, 0.946],\n",
       "       [0.174, 0.826],\n",
       "       [0.061, 0.939],\n",
       "       [0.165, 0.835],\n",
       "       [0.174, 0.826],\n",
       "       [0.081, 0.919],\n",
       "       [0.076, 0.924],\n",
       "       [0.514, 0.486],\n",
       "       [0.075, 0.925],\n",
       "       [0.062, 0.938],\n",
       "       [0.064, 0.936],\n",
       "       [0.081, 0.919],\n",
       "       [0.081, 0.919],\n",
       "       [0.07 , 0.93 ],\n",
       "       [0.174, 0.826],\n",
       "       [0.061, 0.939],\n",
       "       [0.062, 0.938],\n",
       "       [0.081, 0.919],\n",
       "       [0.137, 0.863],\n",
       "       [0.075, 0.925],\n",
       "       [0.081, 0.919],\n",
       "       [0.174, 0.826],\n",
       "       [0.119, 0.881],\n",
       "       [0.062, 0.938],\n",
       "       [0.081, 0.919],\n",
       "       [0.061, 0.939],\n",
       "       [0.119, 0.881],\n",
       "       [0.098, 0.902],\n",
       "       [0.165, 0.835],\n",
       "       [0.07 , 0.93 ],\n",
       "       [0.075, 0.925],\n",
       "       [0.062, 0.938],\n",
       "       [0.065, 0.935],\n",
       "       [0.098, 0.902],\n",
       "       [0.066, 0.934],\n",
       "       [0.056, 0.944],\n",
       "       [0.134, 0.866],\n",
       "       [0.07 , 0.93 ],\n",
       "       [0.054, 0.946],\n",
       "       [0.074, 0.926],\n",
       "       [0.053, 0.947],\n",
       "       [0.081, 0.919],\n",
       "       [0.074, 0.926],\n",
       "       [0.081, 0.919],\n",
       "       [0.196, 0.804],\n",
       "       [0.065, 0.935],\n",
       "       [0.175, 0.825],\n",
       "       [0.07 , 0.93 ],\n",
       "       [0.062, 0.938],\n",
       "       [0.086, 0.914],\n",
       "       [0.081, 0.919],\n",
       "       [0.154, 0.846],\n",
       "       [0.053, 0.947],\n",
       "       [0.154, 0.846],\n",
       "       [0.061, 0.939],\n",
       "       [0.062, 0.938],\n",
       "       [0.145, 0.855],\n",
       "       [0.098, 0.902],\n",
       "       [0.145, 0.855],\n",
       "       [0.098, 0.902],\n",
       "       [0.076, 0.924],\n",
       "       [0.081, 0.919],\n",
       "       [0.076, 0.924],\n",
       "       [0.08 , 0.92 ],\n",
       "       [0.119, 0.881],\n",
       "       [0.065, 0.935],\n",
       "       [0.062, 0.938],\n",
       "       [0.054, 0.946],\n",
       "       [0.154, 0.846],\n",
       "       [0.119, 0.881],\n",
       "       [0.054, 0.946],\n",
       "       [0.04 , 0.96 ],\n",
       "       [0.072, 0.928],\n",
       "       [0.054, 0.946],\n",
       "       [0.086, 0.914],\n",
       "       [0.137, 0.863],\n",
       "       [0.061, 0.939],\n",
       "       [0.062, 0.938],\n",
       "       [0.054, 0.946],\n",
       "       [0.053, 0.947],\n",
       "       [0.062, 0.938],\n",
       "       [0.098, 0.902],\n",
       "       [0.071, 0.929],\n",
       "       [0.079, 0.921],\n",
       "       [0.145, 0.855],\n",
       "       [0.086, 0.914],\n",
       "       [0.065, 0.935],\n",
       "       [0.071, 0.929],\n",
       "       [0.152, 0.848],\n",
       "       [0.103, 0.897],\n",
       "       [0.076, 0.924],\n",
       "       [0.145, 0.855],\n",
       "       [0.071, 0.929],\n",
       "       [0.254, 0.746],\n",
       "       [0.054, 0.946],\n",
       "       [0.062, 0.938],\n",
       "       [0.134, 0.866],\n",
       "       [0.076, 0.924],\n",
       "       [0.058, 0.942],\n",
       "       [0.081, 0.919],\n",
       "       [0.072, 0.928],\n",
       "       [0.154, 0.846],\n",
       "       [0.074, 0.926],\n",
       "       [0.053, 0.947],\n",
       "       [0.154, 0.846],\n",
       "       [0.054, 0.946],\n",
       "       [0.07 , 0.93 ],\n",
       "       [0.062, 0.938],\n",
       "       [0.062, 0.938],\n",
       "       [0.053, 0.947],\n",
       "       [0.071, 0.929],\n",
       "       [0.119, 0.881],\n",
       "       [0.071, 0.929],\n",
       "       [0.086, 0.914],\n",
       "       [0.106, 0.894],\n",
       "       [0.081, 0.919],\n",
       "       [0.174, 0.826],\n",
       "       [0.071, 0.929],\n",
       "       [0.174, 0.826],\n",
       "       [0.081, 0.919],\n",
       "       [0.062, 0.938],\n",
       "       [0.07 , 0.93 ],\n",
       "       [0.178, 0.822],\n",
       "       [0.076, 0.924],\n",
       "       [0.062, 0.938],\n",
       "       [0.065, 0.935],\n",
       "       [0.074, 0.926],\n",
       "       [0.076, 0.924],\n",
       "       [0.074, 0.926],\n",
       "       [0.076, 0.924],\n",
       "       [0.08 , 0.92 ],\n",
       "       [0.356, 0.644],\n",
       "       [0.514, 0.486],\n",
       "       [0.061, 0.939],\n",
       "       [0.075, 0.925],\n",
       "       [0.081, 0.919],\n",
       "       [0.165, 0.835],\n",
       "       [0.062, 0.938],\n",
       "       [0.145, 0.855],\n",
       "       [0.081, 0.919],\n",
       "       [0.075, 0.925],\n",
       "       [0.379, 0.621],\n",
       "       [0.076, 0.924],\n",
       "       [0.081, 0.919],\n",
       "       [0.174, 0.826],\n",
       "       [0.076, 0.924],\n",
       "       [0.061, 0.939],\n",
       "       [0.076, 0.924],\n",
       "       [0.092, 0.908],\n",
       "       [0.076, 0.924],\n",
       "       [0.056, 0.944],\n",
       "       [0.137, 0.863],\n",
       "       [0.072, 0.928],\n",
       "       [0.071, 0.929],\n",
       "       [0.076, 0.924],\n",
       "       [0.081, 0.919],\n",
       "       [0.062, 0.938],\n",
       "       [0.076, 0.924],\n",
       "       [0.082, 0.918],\n",
       "       [0.119, 0.881],\n",
       "       [0.062, 0.938],\n",
       "       [0.502, 0.498],\n",
       "       [0.07 , 0.93 ],\n",
       "       [0.092, 0.908],\n",
       "       [0.075, 0.925],\n",
       "       [0.154, 0.846],\n",
       "       [0.103, 0.897],\n",
       "       [0.154, 0.846],\n",
       "       [0.07 , 0.93 ],\n",
       "       [0.137, 0.863],\n",
       "       [0.065, 0.935],\n",
       "       [0.086, 0.914],\n",
       "       [0.065, 0.935],\n",
       "       [0.076, 0.924],\n",
       "       [0.075, 0.925],\n",
       "       [0.053, 0.947],\n",
       "       [0.092, 0.908],\n",
       "       [0.146, 0.854],\n",
       "       [0.098, 0.902],\n",
       "       [0.071, 0.929],\n",
       "       [0.049, 0.951],\n",
       "       [0.062, 0.938],\n",
       "       [0.128, 0.872],\n",
       "       [0.062, 0.938],\n",
       "       [0.07 , 0.93 ],\n",
       "       [0.154, 0.846],\n",
       "       [0.065, 0.935],\n",
       "       [0.074, 0.926],\n",
       "       [0.062, 0.938],\n",
       "       [0.075, 0.925],\n",
       "       [0.075, 0.925],\n",
       "       [0.054, 0.946],\n",
       "       [0.076, 0.924],\n",
       "       [0.081, 0.919],\n",
       "       [0.119, 0.881],\n",
       "       [0.1  , 0.9  ],\n",
       "       [0.077, 0.923],\n",
       "       [0.145, 0.855],\n",
       "       [0.145, 0.855],\n",
       "       [0.053, 0.947],\n",
       "       [0.054, 0.946],\n",
       "       [0.119, 0.881],\n",
       "       [0.056, 0.944],\n",
       "       [0.154, 0.846],\n",
       "       [0.165, 0.835],\n",
       "       [0.112, 0.888],\n",
       "       [0.058, 0.942],\n",
       "       [0.092, 0.908],\n",
       "       [0.062, 0.938],\n",
       "       [0.196, 0.804],\n",
       "       [0.075, 0.925],\n",
       "       [0.076, 0.924],\n",
       "       [0.154, 0.846],\n",
       "       [0.086, 0.914],\n",
       "       [0.154, 0.846],\n",
       "       [0.174, 0.826],\n",
       "       [0.154, 0.846],\n",
       "       [0.081, 0.919],\n",
       "       [0.256, 0.744],\n",
       "       [0.154, 0.846],\n",
       "       [0.07 , 0.93 ],\n",
       "       [0.054, 0.946],\n",
       "       [0.174, 0.826],\n",
       "       [0.062, 0.938],\n",
       "       [0.076, 0.924],\n",
       "       [0.054, 0.946],\n",
       "       [0.076, 0.924],\n",
       "       [0.075, 0.925],\n",
       "       [0.079, 0.921],\n",
       "       [0.075, 0.925],\n",
       "       [0.076, 0.924],\n",
       "       [0.079, 0.921],\n",
       "       [0.092, 0.908],\n",
       "       [0.065, 0.935],\n",
       "       [0.062, 0.938],\n",
       "       [0.07 , 0.93 ],\n",
       "       [0.174, 0.826],\n",
       "       [0.058, 0.942],\n",
       "       [0.071, 0.929],\n",
       "       [0.092, 0.908],\n",
       "       [0.174, 0.826],\n",
       "       [0.071, 0.929],\n",
       "       [0.086, 0.914],\n",
       "       [0.154, 0.846],\n",
       "       [0.119, 0.881],\n",
       "       [0.154, 0.846],\n",
       "       [0.049, 0.951],\n",
       "       [0.062, 0.938],\n",
       "       [0.092, 0.908],\n",
       "       [0.154, 0.846],\n",
       "       [0.098, 0.902],\n",
       "       [0.154, 0.846],\n",
       "       [0.061, 0.939],\n",
       "       [0.154, 0.846],\n",
       "       [0.062, 0.938],\n",
       "       [0.165, 0.835],\n",
       "       [0.076, 0.924],\n",
       "       [0.079, 0.921],\n",
       "       [0.076, 0.924],\n",
       "       [0.092, 0.908],\n",
       "       [0.119, 0.881],\n",
       "       [0.154, 0.846],\n",
       "       [0.062, 0.938],\n",
       "       [0.165, 0.835],\n",
       "       [0.066, 0.934],\n",
       "       [0.054, 0.946],\n",
       "       [0.086, 0.914],\n",
       "       [0.07 , 0.93 ],\n",
       "       [0.119, 0.881],\n",
       "       [0.062, 0.938],\n",
       "       [0.092, 0.908],\n",
       "       [0.076, 0.924],\n",
       "       [0.076, 0.924],\n",
       "       [0.075, 0.925],\n",
       "       [0.074, 0.926],\n",
       "       [0.075, 0.925],\n",
       "       [0.062, 0.938],\n",
       "       [0.106, 0.894],\n",
       "       [0.061, 0.939],\n",
       "       [0.081, 0.919],\n",
       "       [0.054, 0.946],\n",
       "       [0.065, 0.935],\n",
       "       [0.061, 0.939],\n",
       "       [0.076, 0.924],\n",
       "       [0.076, 0.924],\n",
       "       [0.062, 0.938],\n",
       "       [0.081, 0.919],\n",
       "       [0.062, 0.938],\n",
       "       [0.056, 0.944],\n",
       "       [0.074, 0.926],\n",
       "       [0.062, 0.938],\n",
       "       [0.154, 0.846],\n",
       "       [0.076, 0.924],\n",
       "       [0.062, 0.938],\n",
       "       [0.075, 0.925],\n",
       "       [0.053, 0.947],\n",
       "       [0.092, 0.908]])"
      ]
     },
     "execution_count": 403,
     "metadata": {},
     "output_type": "execute_result"
    }
   ],
   "source": [
    "y_pred_proba = pipeline.predict_proba(X_test)\n",
    "y_pred_proba"
   ]
  },
  {
   "cell_type": "code",
   "execution_count": 404,
   "metadata": {
    "slideshow": {
     "slide_type": "slide"
    }
   },
   "outputs": [
    {
     "name": "stdout",
     "output_type": "stream",
     "text": [
      "Accuracy: 0.9111675126903553\n",
      "Precision: 0.9128205128205128\n",
      "Recall: 0.9971988795518207\n"
     ]
    }
   ],
   "source": [
    "from sklearn import metrics\n",
    "\n",
    "print(\"Accuracy:\", metrics.accuracy_score(y_test, y_pred))\n",
    "print(\"Precision:\", metrics.precision_score(y_test, y_pred))\n",
    "print(\"Recall:\", metrics.recall_score(y_test, y_pred))"
   ]
  },
  {
   "cell_type": "markdown",
   "metadata": {
    "slideshow": {
     "slide_type": "slide"
    }
   },
   "source": [
    "### Plotting the ROC (Receiver Operating Characteristic)\n",
    "* plots the rate of true and false positive rates\n",
    "* AUC (Area under the curve) gives the rate of successful classification by the logistic model"
   ]
  },
  {
   "cell_type": "code",
   "execution_count": 405,
   "metadata": {
    "slideshow": {
     "slide_type": "fragment"
    }
   },
   "outputs": [
    {
     "data": {
      "image/png": "[encoded data removed]",
      "text/plain": [
       "<Figure size 432x288 with 1 Axes>"
      ]
     },
     "metadata": {
      "needs_background": "light"
     },
     "output_type": "display_data"
    }
   ],
   "source": [
    "fpr, tpr, _ = metrics.roc_curve(y_test,  y_pred_proba[::,1])\n",
    "auc = metrics.roc_auc_score(y_test, y_pred_proba[::,1])\n",
    "\n",
    "plt.plot(fpr,tpr,label='auc='+str(auc))\n",
    "plt.plot([0, 1], [0, 1], color='green', lw=2, linestyle='--')\n",
    "plt.legend(loc=4)\n",
    "plt.show()"
   ]
  }
 ],
 "metadata": {
  "celltoolbar": "Slideshow",
  "kernelspec": {
   "display_name": "Python 3",
   "language": "python",
   "name": "python3"
  },
  "language_info": {
   "codemirror_mode": {
    "name": "ipython",
    "version": 3
   },
   "file_extension": ".py",
   "mimetype": "text/x-python",
   "name": "python",
   "nbconvert_exporter": "python",
   "pygments_lexer": "ipython3",
   "version": "3.7.3"
  }
 },
 "nbformat": 4,
 "nbformat_minor": 2
}
