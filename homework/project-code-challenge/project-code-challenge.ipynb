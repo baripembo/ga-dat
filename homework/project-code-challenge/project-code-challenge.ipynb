{
 "cells": [
  {
   "cell_type": "markdown",
   "metadata": {},
   "source": [
    "<img src=\"http://imgur.com/1ZcRyrc.png\" style=\"float: left; margin: 20px; height: 55px\">\n",
    "\n",
    "# Project 1: Python Coding Exercises\n",
    "\n",
    "_Authors: Joseph Nelson (DC) _\n",
    "\n",
    "---"
   ]
  },
  {
   "cell_type": "markdown",
   "metadata": {},
   "source": [
    "The following code challenges are drawn from common exercises used in technical interviews.\n",
    "\n",
    "Please note that there may be several ways to approach each challenge. If you get stuck, try mapping out your approach in pseudocode first. Finally, while solutions to problems like these may be found online, remember that if you copy/paste code that you can't explain, you'll be missing out on the point of the project. The only way to truly learn a new skill is through practice, trial, and error - we can only help you improve by understanding where you are having trouble."
   ]
  },
  {
   "cell_type": "markdown",
   "metadata": {},
   "source": [
    "### Challenge 1: Largest Palindrome\n",
    "A palindromic number reads the same both ways. For example, 1234321 is a palindrome. The largest palindrome made from the product of two two-digit numbers is 9009 = 91 × 99. Find the largest palindrome made from the product of two three-digit numbers. Afterward, write a brief explanation walking through your code's logic in markdown."
   ]
  },
  {
   "cell_type": "code",
   "execution_count": 21,
   "metadata": {},
   "outputs": [
    {
     "name": "stdout",
     "output_type": "stream",
     "text": [
      "The largest palindrome is 906609, a product of 913 and 993\n"
     ]
    }
   ],
   "source": [
    "def is_palindrome(num):\n",
    "    if type(num) in [int, float]:\n",
    "        num_str = str(num)\n",
    "        return num_str == num_str[::-1]\n",
    "    else:\n",
    "        print('You must enter a number.')\n",
    "        return False\n",
    "\n",
    "def get_product(p):\n",
    "   return p['product']\n",
    "\n",
    "range_list = range(100,1000)\n",
    "num_list = []\n",
    "for num1 in range_list:\n",
    "    for num2 in range_list:\n",
    "        test_num = num1 * num2\n",
    "        if is_palindrome(test_num):\n",
    "            num_list.append({'product': test_num, 'num1': num1, 'num2': num2})\n",
    "\n",
    "max_num = max(num_list, key=func)\n",
    "print('The largest palindrome is {}, a product of {} and {}'.format(max_num['product'], max_num['num1'], max_num['num2']))\n",
    "\n"
   ]
  },
  {
   "cell_type": "markdown",
   "metadata": {},
   "source": [
    "### Challenge 1 solution: Largest Palindrome\n",
    "\n",
    "#### Determine if a number is a palindrome\n",
    "- write a function that accepts a variable\n",
    "- make sure the variable is a number\n",
    "- if the variable is a number, check to see if it is a palindrome by converting it to a string and reversing it\n",
    "- if the original string and reversed string are equal, it is a palindrome\n",
    "\n",
    "#### Find the largest palindrome made from the product of two three-digit numbers\n",
    "- define a list of 3-digit numbers from 100-999\n",
    "- loop through the number list and for each number, loop through the number list again to find the product of the two numbers (ex - 100x100, 100x101, 100x102, etc)\n",
    "- test each product to see if it is a palindrome and save it to a list if it is\n",
    "- find the max value in the saved list and that is your largest palindrome"
   ]
  },
  {
   "cell_type": "markdown",
   "metadata": {},
   "source": [
    "\n",
    "### Challenge 2: Summation of Primes\n",
    "The sum of the primes below 10 is 2 + 3 + 5 + 7 = 17. Find the sum of all the primes below 2,000. Afterward, write a brief explanation walking through your code's logic in markdown."
   ]
  },
  {
   "cell_type": "code",
   "execution_count": 95,
   "metadata": {},
   "outputs": [
    {
     "name": "stdout",
     "output_type": "stream",
     "text": [
      "277050\n"
     ]
    }
   ],
   "source": [
    "def is_prime(num):\n",
    "    if type(num) in [int, float]:\n",
    "        factors = 0\n",
    "        for n in range(1, num+1):\n",
    "            if num%n == 0:\n",
    "                factors += 1\n",
    "        return factors == 2\n",
    "    else:\n",
    "        print('You must enter a number.')\n",
    "        return False\n",
    "    \n",
    "limit = 2000\n",
    "nums = range(2, limit)\n",
    "sum_primes = 0\n",
    "for num in nums:\n",
    "    if is_prime(num):\n",
    "        sum_primes += num\n",
    "        \n",
    "print(sum_primes)\n"
   ]
  },
  {
   "cell_type": "markdown",
   "metadata": {},
   "source": [
    "### Challenge 2 solution: Summation of Primes\n",
    "\n",
    "#### Determine if a number is a prime number\n",
    "- write a function that accepts a variable number\n",
    "- create a list of numbers from 1 up to the variable number\n",
    "- divide the variable number by each number in the list\n",
    "- if the remainder is 0, increase the count of factors by 1 \n",
    "- if the number of factors is 2, it is a prime number\n",
    "\n",
    "#### Find the sum of all prime numbers below 2,000\n",
    "- create of list of numbers from 2 to the limit (2,000)\n",
    "- loop through the list and check if each number is a prime number, keeping a count of primes"
   ]
  },
  {
   "cell_type": "markdown",
   "metadata": {},
   "source": [
    "### Challenge 3: Multiples of 3 and 5\n",
    "If we list all of the natural numbers below 10 that are multiples of 3 or 5, we get 3, 5, 6, and 9. The sum of these multiples is 23. Find the sum of all the multiples of 3 and 5 below 1,000. Afterward, write a brief explanation walking through your code's logic in markdown."
   ]
  },
  {
   "cell_type": "code",
   "execution_count": 117,
   "metadata": {},
   "outputs": [
    {
     "name": "stdout",
     "output_type": "stream",
     "text": [
      "233168\n"
     ]
    }
   ],
   "source": [
    "def get_multiples(list, limit):\n",
    "    multiples = []\n",
    "    for n in range(1, limit):\n",
    "        for i in list:\n",
    "            if n%i == 0:\n",
    "                multiples.append(n)\n",
    "                break\n",
    "    return multiples\n",
    "    \n",
    "print(sum(get_multiples([3,5], 1000)))"
   ]
  },
  {
   "cell_type": "markdown",
   "metadata": {},
   "source": [
    "### Challenge 3 solution: Multiples of 3 and 5\n",
    "\n",
    "#### Get the multiples\n",
    "- write a function that accepts a list of multiples and a limit\n",
    "- loop through a list of numbers from 1 to the limit\n",
    "- check if each number is a mutiple of any numbers in the list of multiples by dividing them and checking if the remainder is 0\n",
    "- if a multiple is found, save it to a list and break out of the loop because we dont want to record the multiple twice\n",
    "- return the list of found multiples and take the sum"
   ]
  },
  {
   "cell_type": "markdown",
   "metadata": {},
   "source": [
    "### Challenge 4: String Compressor\n",
    "Implement a method to perform basic string compression using the counts of repeated characters. (This is called run-length encoding.) For example, the string \"aabcccccaaa\" would become a2b1c5a3. If the “compressed” string would not become smaller than the original string, your method should return the original string. You can assume the string has only uppercase and lowercase letters (a–z). Specify whether your solution is case sensitive or case insensitive and what you would need to change to make it the other. Afterward, write a brief explanation walking through your code's logic in markdown."
   ]
  },
  {
   "cell_type": "code",
   "execution_count": 121,
   "metadata": {},
   "outputs": [
    {
     "name": "stdout",
     "output_type": "stream",
     "text": [
      "range(0, 8)\n"
     ]
    },
    {
     "data": {
      "text/plain": [
       "'a1b2c5d1'"
      ]
     },
     "execution_count": 121,
     "metadata": {},
     "output_type": "execute_result"
    }
   ],
   "source": [
    "def str_compressor(s):\n",
    "    if type(s) == str:\n",
    "        # uncomment the following line to make this function case insensitive\n",
    "        #s = s.lower()\n",
    "        comp_str = s[0]\n",
    "        count = 1\n",
    "        for i in range(len(s)-1):\n",
    "            if s[i] == s[i+1]:\n",
    "                count += 1\n",
    "            else:\n",
    "                comp_str += str(count)\n",
    "                count = 1\n",
    "                comp_str += s[i+1]\n",
    "        comp_str += str(count)\n",
    "        if len(comp_str) < len(s):\n",
    "            return comp_str\n",
    "        else:\n",
    "            return s\n",
    "    else:\n",
    "        print(\"You must enter a string.\")\n",
    "    \n",
    "    \n",
    "str_compressor('abbcccccd')\n",
    "    "
   ]
  },
  {
   "cell_type": "markdown",
   "metadata": {},
   "source": [
    "### Challenge 4 solution: String Compressor\n",
    "\n",
    "- write a function that accepts a string variable\n",
    "- define a compressed string variable equal to the first letter of the string\n",
    "- initialize the letter count at 1\n",
    "- loop through the length of the string minus 1\n",
    "    - compare the current letter of the string to the next letter of the string\n",
    "    - if they are equal increase the count by 1\n",
    "    - otherwise, append the current letter count to the compressed string, reset the count to 1, and append the next letter to the compressed string\n",
    "- after the loop is done, append the last letter count to the compressed string\n",
    "- check if the compressed string is shorter than the original string and return the shortest string\n"
   ]
  },
  {
   "cell_type": "markdown",
   "metadata": {},
   "source": [
    "### *BONUS* Challenge: FizzBuzz\n",
    "Write a program that prints all of the numbers from 1 to 100. For multiples of 3, instead of the number, print \"Fizz;\" for multiples of 5, print \"Buzz.\" For numbers that are multiples of both 3 and 5, print \"FizzBuzz.\" Afterward, write a brief explanation walking through your code's logic in markdown."
   ]
  },
  {
   "cell_type": "code",
   "execution_count": 130,
   "metadata": {},
   "outputs": [
    {
     "name": "stdout",
     "output_type": "stream",
     "text": [
      "1\n",
      "2\n",
      "Fizz\n",
      "4\n",
      "Buzz\n",
      "Fizz\n",
      "7\n",
      "8\n",
      "Fizz\n",
      "Buzz\n",
      "11\n",
      "Fizz\n",
      "13\n",
      "14\n",
      "FizzBuzz\n",
      "16\n",
      "17\n",
      "Fizz\n",
      "19\n",
      "Buzz\n",
      "Fizz\n",
      "22\n",
      "23\n",
      "Fizz\n",
      "Buzz\n",
      "26\n",
      "Fizz\n",
      "28\n",
      "29\n",
      "FizzBuzz\n",
      "31\n",
      "32\n",
      "Fizz\n",
      "34\n",
      "Buzz\n",
      "Fizz\n",
      "37\n",
      "38\n",
      "Fizz\n",
      "Buzz\n",
      "41\n",
      "Fizz\n",
      "43\n",
      "44\n",
      "FizzBuzz\n",
      "46\n",
      "47\n",
      "Fizz\n",
      "49\n",
      "Buzz\n",
      "Fizz\n",
      "52\n",
      "53\n",
      "Fizz\n",
      "Buzz\n",
      "56\n",
      "Fizz\n",
      "58\n",
      "59\n",
      "FizzBuzz\n",
      "61\n",
      "62\n",
      "Fizz\n",
      "64\n",
      "Buzz\n",
      "Fizz\n",
      "67\n",
      "68\n",
      "Fizz\n",
      "Buzz\n",
      "71\n",
      "Fizz\n",
      "73\n",
      "74\n",
      "FizzBuzz\n",
      "76\n",
      "77\n",
      "Fizz\n",
      "79\n",
      "Buzz\n",
      "Fizz\n",
      "82\n",
      "83\n",
      "Fizz\n",
      "Buzz\n",
      "86\n",
      "Fizz\n",
      "88\n",
      "89\n",
      "FizzBuzz\n",
      "91\n",
      "92\n",
      "Fizz\n",
      "94\n",
      "Buzz\n",
      "Fizz\n",
      "97\n",
      "98\n",
      "Fizz\n",
      "Buzz\n"
     ]
    }
   ],
   "source": [
    "def is_multiple(multiple, n):\n",
    "    return n%multiple == 0\n",
    "\n",
    "def fizzbuzz():\n",
    "    for i in range(1, 101):\n",
    "        if is_multiple(3,i) and is_multiple(5,i):\n",
    "            print('FizzBuzz')\n",
    "        elif is_multiple(3,i):\n",
    "            print('Fizz')\n",
    "        elif is_multiple(5,i):\n",
    "            print('Buzz')\n",
    "        else: \n",
    "            print(i)\n",
    "        \n",
    "fizzbuzz()"
   ]
  },
  {
   "cell_type": "markdown",
   "metadata": {},
   "source": [
    "### Bonus Challenge solution: FizzBuzz\n",
    "\n",
    "- write function that takes two numbers and determines if one is a multiple of the other\n",
    "- loop through 1 to 100\n",
    "    - if number is a multiple of both 3 and 5, print \"FizzBuzz\"\n",
    "    - otherwise, check if it is a multiple of 3 and print \"Fizz\"\n",
    "    - otherwise, check if it is a multiple of 5 and print \"Buzz\"\n",
    "    - if none of those is true, just print the number"
   ]
  }
 ],
 "metadata": {
  "anaconda-cloud": {},
  "kernelspec": {
   "display_name": "Python 3",
   "language": "python",
   "name": "python3"
  }
 },
 "nbformat": 4,
 "nbformat_minor": 2
}
