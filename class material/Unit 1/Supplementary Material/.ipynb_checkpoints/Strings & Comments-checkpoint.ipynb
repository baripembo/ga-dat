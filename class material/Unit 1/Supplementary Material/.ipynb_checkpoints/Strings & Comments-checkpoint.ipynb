{
 "cells": [
  {
   "cell_type": "markdown",
   "metadata": {},
   "source": [
    "### Printing, Strings, Comments"
   ]
  },
  {
   "cell_type": "markdown",
   "metadata": {},
   "source": [
    "This notebook is meant to be a simple, straightforward introduction for students who want basic practice repeating different aspects taught in the first portion of the Python Fundamentals unit. \n",
    "\n",
    "About half of the material regurgitates what was covered in class, and the other builds on it slightly to introduce some new material."
   ]
  },
  {
   "cell_type": "markdown",
   "metadata": {},
   "source": [
    "### Part I:  Very Basic Practice"
   ]
  },
  {
   "cell_type": "markdown",
   "metadata": {},
   "source": [
    "**Cell 1 Instructions**:  Assign three values to variables, and print each of them separately, and then in one single statement."
   ]
  },
  {
   "cell_type": "code",
   "execution_count": 1,
   "metadata": {},
   "outputs": [
    {
     "name": "stdout",
     "output_type": "stream",
     "text": [
      "10\n",
      "20\n",
      "30\n",
      "10 20 30\n"
     ]
    }
   ],
   "source": [
    "a = 10\n",
    "b = 20\n",
    "c = 30\n",
    "print(a)\n",
    "print(b)\n",
    "print(c)\n",
    "print(a, b, c)"
   ]
  },
  {
   "cell_type": "markdown",
   "metadata": {},
   "source": [
    "**Cell 2 Instructions**: Take the same three variables you created, and insert them into a string using the technique covered in class."
   ]
  },
  {
   "cell_type": "code",
   "execution_count": 5,
   "metadata": {},
   "outputs": [
    {
     "data": {
      "text/plain": [
       "'Value 1 is 10, Value 2 is 20, Value 3 is 30'"
      ]
     },
     "execution_count": 5,
     "metadata": {},
     "output_type": "execute_result"
    }
   ],
   "source": [
    "'Value 1 is {}, Value 2 is {}, Value 3 is {}'.format(a, b, c)\n"
   ]
  },
  {
   "cell_type": "markdown",
   "metadata": {},
   "source": [
    "**Cell 3 Instructions**: Using the same three variables, insert them into a string, but perform a method on them -- it can either be a calculation or a method if it's a string.\n",
    "\n",
    "The following cell is an example.  Run it, observe the results, and then re-create it on your own."
   ]
  },
  {
   "cell_type": "code",
   "execution_count": null,
   "metadata": {
    "scrolled": true
   },
   "outputs": [],
   "source": [
    "a = 23\n",
    "b = 'Hello'\n",
    "c = 'Another string'\n",
    "\n",
    "print(\"The remainder of 5 going into a: \", a%5, \"b, uppercased: \", b.upper(), \"c, made into a title: \", c.title())"
   ]
  },
  {
   "cell_type": "markdown",
   "metadata": {},
   "source": [
    "For your cell, you can choose whatever sorts of operations you'd like.  Try and find a new one you haven't used yet."
   ]
  },
  {
   "cell_type": "code",
   "execution_count": null,
   "metadata": {},
   "outputs": [],
   "source": [
    "### Put In Your Code Here ###\n"
   ]
  },
  {
   "cell_type": "markdown",
   "metadata": {},
   "source": [
    "#### Using Variables With The Format Function ####\n",
    "\n",
    "We'll recreate similar variable insertions using the format() function.\n",
    "\n",
    "First, evaluate the following statement, and observe its results:"
   ]
  },
  {
   "cell_type": "code",
   "execution_count": null,
   "metadata": {},
   "outputs": [],
   "source": [
    "'The first variable: {0}, the second variable: {1}'.format('My first variable', 'My second variable')"
   ]
  },
  {
   "cell_type": "markdown",
   "metadata": {},
   "source": [
    "**Cell 4 Instructions**: Re-order the variables passed into the previous statement, and observe the change."
   ]
  },
  {
   "cell_type": "code",
   "execution_count": 14,
   "metadata": {},
   "outputs": [
    {
     "data": {
      "text/plain": [
       "'The first variable: My second variable, the second variable: My first variable'"
      ]
     },
     "execution_count": 14,
     "metadata": {},
     "output_type": "execute_result"
    }
   ],
   "source": [
    "'The first variable: {1}, the second variable: {0}'.format('My first variable', 'My second variable')\n"
   ]
  },
  {
   "cell_type": "markdown",
   "metadata": {},
   "source": [
    "**Cell 5 Instructions:** Re-order the variables passed into the format function so the following sentence makes sense."
   ]
  },
  {
   "cell_type": "code",
   "execution_count": 8,
   "metadata": {},
   "outputs": [
    {
     "data": {
      "text/plain": [
       "'When I go to Key Foods I get Butter from the dairy aisle, Banana in produce, Hummus from the international aisle and if my willpower is weak, a KitKat at the checkout counter'"
      ]
     },
     "execution_count": 8,
     "metadata": {},
     "output_type": "execute_result"
    }
   ],
   "source": [
    "'When I go to {4} I get {0} from the dairy aisle, {1} in produce, {3} from the international aisle \\\n",
    "and if my willpower is weak, a {2} at the checkout counter'.format('Butter', 'Banana', 'KitKat', 'Hummus', 'Key Foods')\n",
    "\n"
   ]
  },
  {
   "cell_type": "markdown",
   "metadata": {},
   "source": [
    "**Key Idea**:  When you specify variable position using numbers (that begin with 0), the order matters.\n",
    "\n",
    "When you specify variables using *keywords*, they don't.\n",
    "\n",
    "Evaluate the following cell to see an example:"
   ]
  },
  {
   "cell_type": "code",
   "execution_count": 10,
   "metadata": {
    "scrolled": true
   },
   "outputs": [
    {
     "data": {
      "text/plain": [
       "'My first name: Aubrey, My last name: Benson'"
      ]
     },
     "execution_count": 10,
     "metadata": {},
     "output_type": "execute_result"
    }
   ],
   "source": [
    "'My first name: {lastname}, My last name: {firstname}'.format(lastname='Aubrey', firstname='Benson')"
   ]
  },
  {
   "cell_type": "markdown",
   "metadata": {},
   "source": [
    "**Cell 6 Instructions**: Create your own string, using keyword arguments instead."
   ]
  },
  {
   "cell_type": "code",
   "execution_count": 11,
   "metadata": {},
   "outputs": [
    {
     "data": {
      "text/plain": [
       "'Today I went to: Oriental Garden to have: dimsum'"
      ]
     },
     "execution_count": 11,
     "metadata": {},
     "output_type": "execute_result"
    }
   ],
   "source": [
    "'Today I went to: {restaurant} to have: {food}'.format(restaurant='Oriental Garden', food='dimsum')"
   ]
  },
  {
   "cell_type": "markdown",
   "metadata": {},
   "source": [
    "**Formatting Variables With the Format Function**: Take a look at the following output, and notice its results."
   ]
  },
  {
   "cell_type": "code",
   "execution_count": 12,
   "metadata": {},
   "outputs": [
    {
     "data": {
      "text/plain": [
       "'My current bank balance: $567.00'"
      ]
     },
     "execution_count": 12,
     "metadata": {},
     "output_type": "execute_result"
    }
   ],
   "source": [
    "'My current bank balance: ${balance:.2f}'.format(balance=567)"
   ]
  },
  {
   "cell_type": "markdown",
   "metadata": {},
   "source": [
    "**Cell 7 Instructions**: Recreate the following result, try changing the number of decimal places used."
   ]
  },
  {
   "cell_type": "code",
   "execution_count": 15,
   "metadata": {},
   "outputs": [
    {
     "data": {
      "text/plain": [
       "'My current bank balance: $567.000'"
      ]
     },
     "execution_count": 15,
     "metadata": {},
     "output_type": "execute_result"
    }
   ],
   "source": [
    "'My current bank balance: ${balance:.3f}'.format(balance=567)"
   ]
  },
  {
   "cell_type": "markdown",
   "metadata": {},
   "source": [
    "### Part II: Working With Comments, Escape Characters\n",
    "\n",
    "For the rest of this notebook, we'll have a little bit of fun using comments and escape characters.\n",
    "\n",
    "You've probably noticed that '#' symbols don't show up in code, like below:"
   ]
  },
  {
   "cell_type": "code",
   "execution_count": null,
   "metadata": {},
   "outputs": [],
   "source": [
    "# My Comments, Which Don't Appear\n",
    "print(\"The above line doesn't show up.\")"
   ]
  },
  {
   "cell_type": "markdown",
   "metadata": {},
   "source": [
    "**Cell 8 Instructions**: If you haven't already, print out some sort of code block that uses comments."
   ]
  },
  {
   "cell_type": "code",
   "execution_count": 16,
   "metadata": {},
   "outputs": [],
   "source": [
    "# this is a comment\n"
   ]
  },
  {
   "cell_type": "markdown",
   "metadata": {},
   "source": [
    "You can also add multiline quotes, using triple quotes, like below:"
   ]
  },
  {
   "cell_type": "code",
   "execution_count": 17,
   "metadata": {},
   "outputs": [
    {
     "name": "stdout",
     "output_type": "stream",
     "text": [
      "The above does not show up.\n"
     ]
    }
   ],
   "source": [
    "\"\"\"\n",
    "A multiline comment, \n",
    "Which allows us\n",
    "To make longer form comments\n",
    "\"\"\"\n",
    "print(\"The above does not show up.\")"
   ]
  },
  {
   "cell_type": "markdown",
   "metadata": {},
   "source": [
    "**Cell 9 Instructions**: Execute a code block, adding in your own multiline comment to demonstrate that it doesn't show up."
   ]
  },
  {
   "cell_type": "code",
   "execution_count": 18,
   "metadata": {},
   "outputs": [
    {
     "name": "stdout",
     "output_type": "stream",
     "text": [
      "this is my function\n"
     ]
    }
   ],
   "source": [
    "\"\"\"\n",
    "Function defintion here\n",
    "- what does it do\n",
    "- what parameters does it take\n",
    "\"\"\"\n",
    "print('this is my function')"
   ]
  },
  {
   "cell_type": "markdown",
   "metadata": {},
   "source": [
    "#### Escape Characters\n",
    "Observe the following lines, and what output they create:"
   ]
  },
  {
   "cell_type": "code",
   "execution_count": 19,
   "metadata": {},
   "outputs": [
    {
     "name": "stdout",
     "output_type": "stream",
     "text": [
      "This word will show up in 'quotes'\n"
     ]
    }
   ],
   "source": [
    "print(\"This word will show up in 'quotes'\")"
   ]
  },
  {
   "cell_type": "code",
   "execution_count": 20,
   "metadata": {},
   "outputs": [
    {
     "name": "stdout",
     "output_type": "stream",
     "text": [
      "This word will also show up in \"quotes\", but in a different way.\n"
     ]
    }
   ],
   "source": [
    "print('This word will also show up in \"quotes\", but in a different way.')"
   ]
  },
  {
   "cell_type": "code",
   "execution_count": 24,
   "metadata": {},
   "outputs": [
    {
     "ename": "SyntaxError",
     "evalue": "invalid syntax (<ipython-input-24-6519b88504df>, line 1)",
     "output_type": "error",
     "traceback": [
      "\u001b[0;36m  File \u001b[0;32m\"<ipython-input-24-6519b88504df>\"\u001b[0;36m, line \u001b[0;32m1\u001b[0m\n\u001b[0;31m    print('This line, if not modified, produces an 'error' message')\u001b[0m\n\u001b[0m                                                        ^\u001b[0m\n\u001b[0;31mSyntaxError\u001b[0m\u001b[0;31m:\u001b[0m invalid syntax\n"
     ]
    }
   ],
   "source": [
    "print('This line, if not modified, produces an 'error' message')"
   ]
  },
  {
   "cell_type": "markdown",
   "metadata": {},
   "source": [
    "**Cell 10 Instructions**: Re-write the above code block so there are no error messages."
   ]
  },
  {
   "cell_type": "code",
   "execution_count": 23,
   "metadata": {},
   "outputs": [
    {
     "name": "stdout",
     "output_type": "stream",
     "text": [
      "This line, if not modified, produces an 'error' message\n"
     ]
    }
   ],
   "source": [
    "print('This line, if not modified, produces an \\'error\\' message')"
   ]
  },
  {
   "cell_type": "markdown",
   "metadata": {},
   "source": [
    "Now, look at the following block:"
   ]
  },
  {
   "cell_type": "code",
   "execution_count": 25,
   "metadata": {},
   "outputs": [
    {
     "name": "stdout",
     "output_type": "stream",
     "text": [
      "This will \n",
      "not appear on the same line.\n"
     ]
    }
   ],
   "source": [
    "print(\"This will \\nnot appear on the same line.\")"
   ]
  },
  {
   "cell_type": "markdown",
   "metadata": {},
   "source": [
    "**Key Idea**:  The \\ character has special powers within a string, and backslashes followed by certain characters cause strings to format in particular ways.\n",
    "\n",
    "Here are a few more examples:"
   ]
  },
  {
   "cell_type": "code",
   "execution_count": 26,
   "metadata": {},
   "outputs": [
    {
     "name": "stdout",
     "output_type": "stream",
     "text": [
      "This will erase\r",
      "the part of the line preceeding this.\n"
     ]
    }
   ],
   "source": [
    "print(\"This will erase\\rthe part of the line preceeding this.\")"
   ]
  },
  {
   "cell_type": "code",
   "execution_count": 27,
   "metadata": {},
   "outputs": [
    {
     "name": "stdout",
     "output_type": "stream",
     "text": [
      "The following quote does not cause an error message: \"\n"
     ]
    }
   ],
   "source": [
    "print(\"The following quote does not cause an error message: \\\"\")"
   ]
  },
  {
   "cell_type": "markdown",
   "metadata": {},
   "source": [
    "**Cell 11 Instructions**:  Use the '\\' character to print out the following statement as it appears:\n",
    "\n",
    "This is the first line\n",
    "\n",
    "The second one has this: \"\n",
    "\n",
    "The third one 'this'\n",
    "\n",
    "And yet there are no error message."
   ]
  },
  {
   "cell_type": "code",
   "execution_count": 30,
   "metadata": {},
   "outputs": [
    {
     "name": "stdout",
     "output_type": "stream",
     "text": [
      "This is the first line\n",
      "The second one has this: \"\n",
      "The third one 'this'\n",
      "And yet there are no error message.\n"
     ]
    }
   ],
   "source": [
    "print(\"This is the first line\\nThe second one has this: \\\"\\nThe third one 'this'\\nAnd yet there are no error message.\")"
   ]
  },
  {
   "cell_type": "markdown",
   "metadata": {},
   "source": [
    "You can also use the '\\' to escape a backslash.  Observe the following line:"
   ]
  },
  {
   "cell_type": "code",
   "execution_count": 31,
   "metadata": {},
   "outputs": [
    {
     "name": "stdout",
     "output_type": "stream",
     "text": [
      "This line would \\n normally cause a new line, but it doesn't because of the backslash.\n"
     ]
    }
   ],
   "source": [
    "print(\"This line would \\\\n normally cause a new line, but it doesn't because of the backslash.\")"
   ]
  },
  {
   "cell_type": "markdown",
   "metadata": {},
   "source": [
    "**Cell 12 Instructions**: Recreate the previous statement so it forms a new line."
   ]
  },
  {
   "cell_type": "code",
   "execution_count": 32,
   "metadata": {},
   "outputs": [
    {
     "name": "stdout",
     "output_type": "stream",
     "text": [
      "This line would \n",
      " normally cause a new line, but it doesn't because of the backslash.\n"
     ]
    }
   ],
   "source": [
    "print(\"This line would \\n normally cause a new line, but it doesn't because of the backslash.\")"
   ]
  },
  {
   "cell_type": "markdown",
   "metadata": {},
   "source": [
    "**Cell 13 Instructions**: Modify the following string so that it prints out correctly, like a normal file path."
   ]
  },
  {
   "cell_type": "code",
   "execution_count": 34,
   "metadata": {},
   "outputs": [
    {
     "name": "stdout",
     "output_type": "stream",
     "text": [
      "C:\\Users\\Jonat\\OneDrive\\General Assembly\\Data-Science\\Machine Learning Bootcamp\\Data\n"
     ]
    }
   ],
   "source": [
    "print('C:\\\\Users\\\\Jonat\\\\OneDrive\\\\General Assembly\\\\Data-Science\\\\Machine Learning Bootcamp\\\\Data')"
   ]
  },
  {
   "cell_type": "code",
   "execution_count": null,
   "metadata": {},
   "outputs": [],
   "source": []
  }
 ],
 "metadata": {
  "kernelspec": {
   "display_name": "Python 3",
   "language": "python",
   "name": "python3"
  },
  "language_info": {
   "codemirror_mode": {
    "name": "ipython",
    "version": 3
   },
   "file_extension": ".py",
   "mimetype": "text/x-python",
   "name": "python",
   "nbconvert_exporter": "python",
   "pygments_lexer": "ipython3",
   "version": "3.7.3"
  }
 },
 "nbformat": 4,
 "nbformat_minor": 2
}
