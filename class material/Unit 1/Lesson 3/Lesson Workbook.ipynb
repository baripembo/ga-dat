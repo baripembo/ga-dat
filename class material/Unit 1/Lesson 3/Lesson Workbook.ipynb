{
 "cells": [
  {
   "cell_type": "markdown",
   "metadata": {},
   "source": [
    "### Lesson 3 Workbook"
   ]
  },
  {
   "cell_type": "markdown",
   "metadata": {},
   "source": [
    "#### Exercise 1: Conditional Logic"
   ]
  },
  {
   "cell_type": "markdown",
   "metadata": {},
   "source": [
    "**Your Task:** Take a look at the following 3-4 control flow statements, and troubleshoot why they're getting error messages, and try to fix them."
   ]
  },
  {
   "cell_type": "code",
   "execution_count": 6,
   "metadata": {},
   "outputs": [],
   "source": [
    "# Remove the error messages\n",
    "var = 23\n",
    "\n",
    "if var <= 22:\n",
    "    print(\"It's true.\")"
   ]
  },
  {
   "cell_type": "code",
   "execution_count": 9,
   "metadata": {},
   "outputs": [
    {
     "name": "stdout",
     "output_type": "stream",
     "text": [
      "It's a string\n",
      "Goodbye.\n"
     ]
    }
   ],
   "source": [
    "var2 = 'A string'\n",
    "\n",
    "if type(var2) == str:\n",
    "    print(\"It's a string\")\n",
    "    print(\"Goodbye.\")"
   ]
  },
  {
   "cell_type": "code",
   "execution_count": 14,
   "metadata": {},
   "outputs": [
    {
     "name": "stdout",
     "output_type": "stream",
     "text": [
      "They're both strings.\n"
     ]
    }
   ],
   "source": [
    "var3 = 'Another string'\n",
    "var4 = True\n",
    "\n",
    "if type(var3) == str or type(var4) == str:\n",
    "    print(\"They're both strings.\")\n",
    "elif type(var3) == bool or type(var4) == bool:\n",
    "    print(\"They're booleans\")\n",
    "else:\n",
    "    print(\"They're something else.\")"
   ]
  },
  {
   "cell_type": "markdown",
   "metadata": {},
   "source": [
    "This comparison is meant to go through the following conditions:\n",
    " - Checks first to see if it's a number of any type (int or float), and prints a message confirming that it does\n",
    " - Checks second to see if it's a string, and then prints a message confirming as much\n",
    " - Checks to see if it's a boolean value, and then prints a message confirming as much\n",
    " - Finally, prints a message called 'None of the Above' if none of these are true.\n",
    " \n",
    "**The statement below is not correct**, but it does not give an error message.  Try different variable types to see how it doesn't progress the way it should.  \n",
    "\n",
    "See if you can catch the error."
   ]
  },
  {
   "cell_type": "code",
   "execution_count": 22,
   "metadata": {},
   "outputs": [
    {
     "name": "stdout",
     "output_type": "stream",
     "text": [
      "It's a string.\n",
      "It's at least 8 letters long.\n"
     ]
    }
   ],
   "source": [
    "var5 = 'A string'\n",
    "\n",
    "if type(var5) == int or type(var5) == float:\n",
    "    print(\"It's a number.\")\n",
    "    if (var5%2 == 0):\n",
    "        print(\"It's even.\")\n",
    "    else:\n",
    "        print(\"It's odd.\")\n",
    "elif type(var5) == str:\n",
    "    print(\"It's a string.\")\n",
    "    if len(var5) >= 8:\n",
    "        print(\"It's at least 8 letters long.\")\n",
    "    else:\n",
    "        print(\"It's less than 8 letters long.\")\n",
    "elif type(var5) == bool:\n",
    "    print(\"It's a boolean.\")\n",
    "else:\n",
    "    print(\"It's something else.\")"
   ]
  },
  {
   "cell_type": "markdown",
   "metadata": {},
   "source": [
    "To build on the last exercise, extend it in the following way:\n",
    " - If the variable is a number, then check to see if it's even or odd.\n",
    "  - If it's odd, print a statement saying as much.  Ditto if it's even.\n",
    " - If the variable is a string, check to see if it's at least 8 letters long.\n",
    "  - If it is, print a statement saying as such.\n",
    "  - If it's less than 8 letters long, print something else."
   ]
  },
  {
   "cell_type": "markdown",
   "metadata": {},
   "source": [
    "**Exercise 2: Final Comparison**\n",
    "\n",
    "Imagine you are writing conditional logic to verify password integrity, and a user provides you with a password to use, and repeats it for you again to verify its authenticity (a common practice).\n",
    "\n",
    "Implement an if/else statement that properly checks for password integrity in the following ways:\n",
    " - double checks to make sure the version of the passwords are equal to one another.  If not, provide an error message.\n",
    " - If they are equal, checks to make sure the password contains both numbers and letters (hint: look at the methods isalpha() and isnumeric() for this).  If not, display an error message.\n",
    " - If they contain both numbers and letters, make sure it's at least 8 letters long.  If not, display an error message.\n",
    " - If the password meets these criteria, create a variable called permanent password, and set it equal to the password provided by the user."
   ]
  },
  {
   "cell_type": "code",
   "execution_count": 53,
   "metadata": {},
   "outputs": [
    {
     "name": "stdout",
     "output_type": "stream",
     "text": [
      "Your permanent password is riverside17\n"
     ]
    }
   ],
   "source": [
    "password1 = 'riverside17'\n",
    "password2 = 'riverside17'\n",
    "has_letter = False\n",
    "has_number = False\n",
    "\n",
    "if password1 != password2:\n",
    "    print(\"The passwords do not match.\")\n",
    "else:\n",
    "    for c in password1:\n",
    "        if c.isalpha():\n",
    "            has_letter = True\n",
    "        if c.isnumeric():\n",
    "            has_number = True\n",
    "    if has_letter and has_number:\n",
    "        if len(password1) >= 8:\n",
    "            permanent_password = password1\n",
    "            print(\"Your permanent password is\", permanent_password)\n",
    "        else: \n",
    "            print(\"Your password must be at least 8 characters.\")\n",
    "    else:\n",
    "        print(\"Your password must contain letters and numbers.\")\n",
    "\n"
   ]
  },
  {
   "cell_type": "markdown",
   "metadata": {},
   "source": [
    "#### Exercise 4: Lists"
   ]
  },
  {
   "cell_type": "markdown",
   "metadata": {},
   "source": [
    "Take the following list, and use it to practice various types of slices and list operations:"
   ]
  },
  {
   "cell_type": "code",
   "execution_count": 79,
   "metadata": {},
   "outputs": [],
   "source": [
    "my_list = [1, 2, 3, 38, 49, 'a string', 'another string', 'some other string', True, False, 21.8, 'yet another strin', 'the last item']"
   ]
  },
  {
   "cell_type": "markdown",
   "metadata": {},
   "source": [
    "Grab the first 10 items in the list:"
   ]
  },
  {
   "cell_type": "code",
   "execution_count": 58,
   "metadata": {},
   "outputs": [
    {
     "data": {
      "text/plain": [
       "[1,\n",
       " 2,\n",
       " 3,\n",
       " 38,\n",
       " 49,\n",
       " 'a string',\n",
       " 'another string',\n",
       " 'some other string',\n",
       " True,\n",
       " False]"
      ]
     },
     "execution_count": 58,
     "metadata": {},
     "output_type": "execute_result"
    }
   ],
   "source": [
    "my_list[:10]"
   ]
  },
  {
   "cell_type": "markdown",
   "metadata": {},
   "source": [
    "Grab the last 10 items in the list:"
   ]
  },
  {
   "cell_type": "code",
   "execution_count": 92,
   "metadata": {},
   "outputs": [
    {
     "data": {
      "text/plain": [
       "[3,\n",
       " 38,\n",
       " 49,\n",
       " 'a string',\n",
       " 'another string',\n",
       " 'some other string',\n",
       " True,\n",
       " False,\n",
       " 21.8,\n",
       " 'yet another strin']"
      ]
     },
     "execution_count": 92,
     "metadata": {},
     "output_type": "execute_result"
    }
   ],
   "source": [
    "my_list[-10:]"
   ]
  },
  {
   "cell_type": "markdown",
   "metadata": {},
   "source": [
    "Grab the items at index positions 3-7 in the list."
   ]
  },
  {
   "cell_type": "code",
   "execution_count": 91,
   "metadata": {},
   "outputs": [
    {
     "data": {
      "text/plain": [
       "[38, 49, 'a string', 'another string', 'some other string']"
      ]
     },
     "execution_count": 91,
     "metadata": {},
     "output_type": "execute_result"
    }
   ],
   "source": [
    "my_list[3:8]"
   ]
  },
  {
   "cell_type": "markdown",
   "metadata": {},
   "source": [
    "Grab every third item of the list:"
   ]
  },
  {
   "cell_type": "code",
   "execution_count": 63,
   "metadata": {},
   "outputs": [
    {
     "data": {
      "text/plain": [
       "[1, 38, 'another string', False, 'the last item']"
      ]
     },
     "execution_count": 63,
     "metadata": {},
     "output_type": "execute_result"
    }
   ],
   "source": [
    "my_list[::3]"
   ]
  },
  {
   "cell_type": "markdown",
   "metadata": {},
   "source": []
  },
  {
   "cell_type": "markdown",
   "metadata": {},
   "source": [
    "Now, let's take a look at negative step sizes.  Run the following two lines of code to see what they do."
   ]
  },
  {
   "cell_type": "code",
   "execution_count": 64,
   "metadata": {},
   "outputs": [
    {
     "data": {
      "text/plain": [
       "[]"
      ]
     },
     "execution_count": 64,
     "metadata": {},
     "output_type": "execute_result"
    }
   ],
   "source": [
    "my_list[2:10:-1]"
   ]
  },
  {
   "cell_type": "code",
   "execution_count": 65,
   "metadata": {},
   "outputs": [
    {
     "data": {
      "text/plain": [
       "[21.8, False, True, 'some other string', 'another string', 'a string', 49, 38]"
      ]
     },
     "execution_count": 65,
     "metadata": {},
     "output_type": "execute_result"
    }
   ],
   "source": [
    "my_list[10:2:-1]"
   ]
  },
  {
   "cell_type": "markdown",
   "metadata": {},
   "source": [
    "Can you make sense of what's happening?\n",
    "\n",
    "How would you *reverse* a list using this method?"
   ]
  },
  {
   "cell_type": "code",
   "execution_count": 66,
   "metadata": {},
   "outputs": [
    {
     "data": {
      "text/plain": [
       "['the last item',\n",
       " 'yet another strin',\n",
       " 21.8,\n",
       " False,\n",
       " True,\n",
       " 'some other string',\n",
       " 'another string',\n",
       " 'a string',\n",
       " 49,\n",
       " 38,\n",
       " 3,\n",
       " 2,\n",
       " 1]"
      ]
     },
     "execution_count": 66,
     "metadata": {},
     "output_type": "execute_result"
    }
   ],
   "source": [
    "# Reverse the list here\n",
    "my_list[::-1]"
   ]
  },
  {
   "cell_type": "markdown",
   "metadata": {},
   "source": [
    "**List Methods:** Now, let's take a look at different list methods that are commonly used:\n",
    " - append()\n",
    " - insert()\n",
    " - pop()\n",
    " - clear()\n",
    " - remove()\n",
    " \n",
    "Let's see if we can figure out what they do.\n",
    "\n",
    "The official documentation is here:  https://docs.python.org/3/tutorial/datastructures.html"
   ]
  },
  {
   "cell_type": "code",
   "execution_count": 80,
   "metadata": {},
   "outputs": [
    {
     "data": {
      "text/plain": [
       "'the last item'"
      ]
     },
     "execution_count": 80,
     "metadata": {},
     "output_type": "execute_result"
    }
   ],
   "source": [
    "my_list.pop()"
   ]
  },
  {
   "cell_type": "markdown",
   "metadata": {},
   "source": [
    "**Iterables:** Lists have index positions, but they're not the only data type that does this.  Broadly speaking, any data type that allows you to access its individual members by an index position is called an *iterable*, and these are fairly pervasive in python.\n",
    "\n",
    "To demonstrate what I mean, try the following:\n",
    " - assign a string to a variable name of your choice\n",
    " - using index notation try and grab the first and last letters, and various slices of the text."
   ]
  },
  {
   "cell_type": "code",
   "execution_count": 90,
   "metadata": {},
   "outputs": [
    {
     "data": {
      "text/plain": [
       "'g'"
      ]
     },
     "execution_count": 90,
     "metadata": {},
     "output_type": "execute_result"
    }
   ],
   "source": [
    "# Your Code Here\n",
    "s = \"my string\"\n",
    "s[-1:]"
   ]
  },
  {
   "cell_type": "markdown",
   "metadata": {},
   "source": [
    "#### Loops"
   ]
  },
  {
   "cell_type": "markdown",
   "metadata": {},
   "source": [
    "We'll start with the list we had at the beginning of this workshop:"
   ]
  },
  {
   "cell_type": "code",
   "execution_count": null,
   "metadata": {},
   "outputs": [],
   "source": [
    "my_list = [1, 2, 3, 38, 49, 'a string', 'another string', 'some other string', True, False, 21.8, 'yet another strin', 'the last item']"
   ]
  },
  {
   "cell_type": "markdown",
   "metadata": {},
   "source": [
    "**1).** Using a loop, print off every single item in the above list, as well as its data type.  You can do this using one or two print statements."
   ]
  },
  {
   "cell_type": "code",
   "execution_count": 95,
   "metadata": {},
   "outputs": [
    {
     "name": "stdout",
     "output_type": "stream",
     "text": [
      "1 <class 'int'>\n",
      "2 <class 'int'>\n",
      "3 <class 'int'>\n",
      "38 <class 'int'>\n",
      "49 <class 'int'>\n",
      "a string <class 'str'>\n",
      "another string <class 'str'>\n",
      "some other string <class 'str'>\n",
      "True <class 'bool'>\n",
      "False <class 'bool'>\n",
      "21.8 <class 'float'>\n",
      "yet another strin <class 'str'>\n"
     ]
    }
   ],
   "source": [
    "# your code here\n",
    "for item in my_list:\n",
    "    print(item, type(item))"
   ]
  },
  {
   "cell_type": "markdown",
   "metadata": {},
   "source": [
    "**2).** Using a loop, print off every single item in the list *if it's a number of any sort*"
   ]
  },
  {
   "cell_type": "code",
   "execution_count": 111,
   "metadata": {},
   "outputs": [
    {
     "name": "stdout",
     "output_type": "stream",
     "text": [
      "1\n",
      "2\n",
      "3\n",
      "38\n",
      "49\n",
      "21.8\n"
     ]
    }
   ],
   "source": [
    "# your code here\n",
    "for item in my_list:\n",
    "    if type(item) == int or type(item) == float:\n",
    "        print(item)"
   ]
  },
  {
   "cell_type": "markdown",
   "metadata": {},
   "source": [
    "**3).** Create a variable called list_sum, and use a loop to sum up the values of all of the numeric data in your list.\n",
    "\n",
    "**hint:** remember the += notation"
   ]
  },
  {
   "cell_type": "code",
   "execution_count": 112,
   "metadata": {},
   "outputs": [
    {
     "name": "stdout",
     "output_type": "stream",
     "text": [
      "114.8\n"
     ]
    }
   ],
   "source": [
    "# your code here\n",
    "list_sum = 0\n",
    "for item in my_list:\n",
    "    if type(item) == int or type(item) == float:\n",
    "        list_sum += item\n",
    "print(list_sum)\n"
   ]
  },
  {
   "cell_type": "markdown",
   "metadata": {},
   "source": [
    "**4).** Using a loop, print off the first letter of every item in your list that's a string"
   ]
  },
  {
   "cell_type": "code",
   "execution_count": 105,
   "metadata": {},
   "outputs": [
    {
     "name": "stdout",
     "output_type": "stream",
     "text": [
      "a\n",
      "a\n",
      "s\n",
      "y\n"
     ]
    }
   ],
   "source": [
    "# your code here\n",
    "for item in my_list:\n",
    "    if type(item) == str:\n",
    "        print(item[0])\n"
   ]
  },
  {
   "cell_type": "markdown",
   "metadata": {},
   "source": [
    "**5).** Create a variable called string_list, and use a loop to add every item in my_list that's a string that's more than 8 characters."
   ]
  },
  {
   "cell_type": "code",
   "execution_count": 110,
   "metadata": {},
   "outputs": [
    {
     "name": "stdout",
     "output_type": "stream",
     "text": [
      "['another string', 'some other string', 'yet another strin']\n"
     ]
    }
   ],
   "source": [
    "# your code here\n",
    "string_list = []\n",
    "for item in my_list:\n",
    "    if type(item) == str and len(item) > 8:\n",
    "        string_list.append(item)\n",
    "print(string_list)"
   ]
  },
  {
   "cell_type": "markdown",
   "metadata": {},
   "source": [
    "#### List Comprehensions"
   ]
  },
  {
   "cell_type": "markdown",
   "metadata": {},
   "source": [
    "Use a list comprehension to recreate the results from 3 & 5 from above."
   ]
  },
  {
   "cell_type": "code",
   "execution_count": 113,
   "metadata": {},
   "outputs": [],
   "source": [
    "new_list = list(range(24))"
   ]
  },
  {
   "cell_type": "code",
   "execution_count": 114,
   "metadata": {},
   "outputs": [
    {
     "data": {
      "text/plain": [
       "[0,\n",
       " 1,\n",
       " 2,\n",
       " 3,\n",
       " 4,\n",
       " 5,\n",
       " 6,\n",
       " 7,\n",
       " 8,\n",
       " 9,\n",
       " 10,\n",
       " 11,\n",
       " 12,\n",
       " 13,\n",
       " 14,\n",
       " 15,\n",
       " 16,\n",
       " 17,\n",
       " 18,\n",
       " 19,\n",
       " 20,\n",
       " 21,\n",
       " 22,\n",
       " 23]"
      ]
     },
     "execution_count": 114,
     "metadata": {},
     "output_type": "execute_result"
    }
   ],
   "source": [
    "new_list"
   ]
  },
  {
   "cell_type": "code",
   "execution_count": 115,
   "metadata": {},
   "outputs": [],
   "source": [
    "odds_list = [item for item in new_list if item %2==1]"
   ]
  },
  {
   "cell_type": "code",
   "execution_count": 116,
   "metadata": {},
   "outputs": [
    {
     "data": {
      "text/plain": [
       "[1, 3, 5, 7, 9, 11, 13, 15, 17, 19, 21, 23]"
      ]
     },
     "execution_count": 116,
     "metadata": {},
     "output_type": "execute_result"
    }
   ],
   "source": [
    "odds_list"
   ]
  },
  {
   "cell_type": "code",
   "execution_count": 118,
   "metadata": {},
   "outputs": [],
   "source": [
    "str_list = [item for item in my_list if type(item) == str and len(item) > 8]"
   ]
  },
  {
   "cell_type": "code",
   "execution_count": 119,
   "metadata": {},
   "outputs": [
    {
     "data": {
      "text/plain": [
       "['another string', 'some other string', 'yet another strin']"
      ]
     },
     "execution_count": 119,
     "metadata": {},
     "output_type": "execute_result"
    }
   ],
   "source": [
    "str_list"
   ]
  },
  {
   "cell_type": "code",
   "execution_count": null,
   "metadata": {},
   "outputs": [],
   "source": []
  }
 ],
 "metadata": {
  "kernelspec": {
   "display_name": "Python 3",
   "language": "python",
   "name": "python3"
  },
  "language_info": {
   "codemirror_mode": {
    "name": "ipython",
    "version": 3
   },
   "file_extension": ".py",
   "mimetype": "text/x-python",
   "name": "python",
   "nbconvert_exporter": "python",
   "pygments_lexer": "ipython3",
   "version": "3.7.3"
  }
 },
 "nbformat": 4,
 "nbformat_minor": 2
}
