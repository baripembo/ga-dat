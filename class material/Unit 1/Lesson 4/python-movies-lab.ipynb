{
 "cells": [
  {
   "cell_type": "markdown",
   "metadata": {},
   "source": [
    "<img src=\"http://imgur.com/1ZcRyrc.png\" style=\"float: left; margin: 20px; height: 55px\">\n",
    "\n",
    "## Python Review With Movie Data\n",
    "\n",
    "_Author: Kiefer Katovich and Dave Yerrington (San Francisco)\n",
    "\n",
    "---\n",
    "\n",
    "In this lab, you'll be using the [IMDb](http://www.imdb.com/) `movies` list below as your data set. \n",
    "\n",
    "This lab is designed to help you practice iteration and functions in particular. The normal questions are more gentle, and the challenge questions are suitable for advanced/expert Python students or those with programming experience. \n",
    "\n",
    "All of the questions require writing functions and using iteration to solve. You should print out a test of each function you write.\n",
    "\n",
    "\n",
    "### 1) Load the provided list of `movies` dictionaries."
   ]
  },
  {
   "cell_type": "code",
   "execution_count": 1,
   "metadata": {},
   "outputs": [],
   "source": [
    "# List of movies dictionaries:\n",
    "\n",
    "movies = [\n",
    "{\n",
    "\"name\": \"Usual Suspects\", \n",
    "\"imdb\": 7.0,\n",
    "\"category\": \"Thriller\"\n",
    "},\n",
    "{\n",
    "\"name\": \"Hitman\",\n",
    "\"imdb\": 6.3,\n",
    "\"category\": \"Action\"\n",
    "},\n",
    "{\n",
    "\"name\": \"Dark Knight\",\n",
    "\"imdb\": 9.0,\n",
    "\"category\": \"Adventure\"\n",
    "},\n",
    "{\n",
    "\"name\": \"The Help\",\n",
    "\"imdb\": 8.0,\n",
    "\"category\": \"Drama\"\n",
    "},\n",
    "{\n",
    "\"name\": \"The Choice\",\n",
    "\"imdb\": 6.2,\n",
    "\"category\": \"Romance\"\n",
    "},\n",
    "{\n",
    "\"name\": \"Colonia\",\n",
    "\"imdb\": 7.4,\n",
    "\"category\": \"Romance\"\n",
    "},\n",
    "{\n",
    "\"name\": \"Love\",\n",
    "\"imdb\": 6.0,\n",
    "\"category\": \"Romance\"\n",
    "},\n",
    "{\n",
    "\"name\": \"Bride Wars\",\n",
    "\"imdb\": 5.4,\n",
    "\"category\": \"Romance\"\n",
    "},\n",
    "{\n",
    "\"name\": \"AlphaJet\",\n",
    "\"imdb\": 3.2,\n",
    "\"category\": \"War\"\n",
    "},\n",
    "{\n",
    "\"name\": \"Ringing Crime\",\n",
    "\"imdb\": 4.0,\n",
    "\"category\": \"Crime\"\n",
    "},\n",
    "{\n",
    "\"name\": \"Joking muck\",\n",
    "\"imdb\": 7.2,\n",
    "\"category\": \"Comedy\"\n",
    "},\n",
    "{\n",
    "\"name\": \"What is the name\",\n",
    "\"imdb\": 9.2,\n",
    "\"category\": \"Suspense\"\n",
    "},\n",
    "{\n",
    "\"name\": \"Detective\",\n",
    "\"imdb\": 7.0,\n",
    "\"category\": \"Suspense\"\n",
    "},\n",
    "{\n",
    "\"name\": \"Exam\",\n",
    "\"imdb\": 4.2,\n",
    "\"category\": \"Thriller\"\n",
    "},\n",
    "{\n",
    "\"name\": \"We Two\",\n",
    "\"imdb\": 7.2,\n",
    "\"category\": \"Romance\"\n",
    "}\n",
    "]"
   ]
  },
  {
   "cell_type": "markdown",
   "metadata": {},
   "source": [
    "---\n",
    "\n",
    "### 2) Filtering data by IMDb score.\n",
    "\n",
    "#### 2.1)\n",
    "\n",
    "Write a function that:\n",
    "\n",
    "1) Accepts a single movie dictionary from the `movies` list as an argument.\n",
    "2) Returns `True` if the IMDb score is greater than 5.5.\n",
    "\n",
    "#### 2.2 [Challenge])\n",
    "\n",
    "Write a function that:\n",
    "\n",
    "1) Accepts the `movies` list and a specified category.\n",
    "2) Returns `True` if the average score of the category is higher than the average score of all movies."
   ]
  },
  {
   "cell_type": "code",
   "execution_count": 72,
   "metadata": {},
   "outputs": [
    {
     "data": {
      "text/plain": [
       "True"
      ]
     },
     "execution_count": 72,
     "metadata": {},
     "output_type": "execute_result"
    }
   ],
   "source": [
    "# 2.1\n",
    "def my_function(movies_dict):\n",
    "    if movies_dict['imdb'] > 5.5:\n",
    "        return True\n",
    "    \n",
    "my_function(movies[1])"
   ]
  },
  {
   "cell_type": "code",
   "execution_count": 73,
   "metadata": {},
   "outputs": [
    {
     "data": {
      "text/plain": [
       "True"
      ]
     },
     "execution_count": 73,
     "metadata": {},
     "output_type": "execute_result"
    }
   ],
   "source": [
    "# 2.2\n",
    "def movie_score(movies_list, category):\n",
    "    movie_average = 0\n",
    "    category_average = 0\n",
    "    category_list = [1 for d in movies_list if d['category'] == category]\n",
    "    for d in movies_list:\n",
    "        movie_average += d['imdb']\n",
    "        if d['category'] == category:\n",
    "            category_average += d['imdb']\n",
    "    movie_average = movie_average / len(movies_list)\n",
    "    category_average = category_average/ len(category_list)\n",
    "    return category_average > movie_average\n",
    "\n",
    "movie_score(movies, 'Suspense')"
   ]
  },
  {
   "cell_type": "markdown",
   "metadata": {},
   "source": [
    "---\n",
    "\n",
    "### 3) Creating subsets by numeric condition.\n",
    "\n",
    "#### 3.1)\n",
    "\n",
    "Write a function that:\n",
    "\n",
    "1) Accepts the list of movies and a specified IMDb score.\n",
    "2) Returns the sublist of movies that have scores greater than the one specified.\n",
    "\n",
    "#### 3.2 [Expert])\n",
    "\n",
    "Write a function that:\n",
    "\n",
    "1) Accepts the `movies` list as an argument.\n",
    "2) Returns the `movies` list sorted first by category and then by movie according to category average score and individual IMDb score, respectively."
   ]
  },
  {
   "cell_type": "code",
   "execution_count": 74,
   "metadata": {},
   "outputs": [
    {
     "data": {
      "text/plain": [
       "[{'name': 'Dark Knight', 'imdb': 9.0, 'category': 'Adventure'},\n",
       " {'name': 'The Help', 'imdb': 8.0, 'category': 'Drama'},\n",
       " {'name': 'Colonia', 'imdb': 7.4, 'category': 'Romance'},\n",
       " {'name': 'Joking muck', 'imdb': 7.2, 'category': 'Comedy'},\n",
       " {'name': 'What is the name', 'imdb': 9.2, 'category': 'Suspense'},\n",
       " {'name': 'We Two', 'imdb': 7.2, 'category': 'Romance'}]"
      ]
     },
     "execution_count": 74,
     "metadata": {},
     "output_type": "execute_result"
    }
   ],
   "source": [
    "# 3.1\n",
    "def movie_score(movies_list, score):\n",
    "    sublist = [d for d in movies_list if d['imdb'] > score]\n",
    "    return sublist\n",
    "        \n",
    "movie_score(movies, 7)\n",
    "\n"
   ]
  },
  {
   "cell_type": "code",
   "execution_count": 75,
   "metadata": {},
   "outputs": [
    {
     "name": "stdout",
     "output_type": "stream",
     "text": [
      "[{'name': 'Hitman', 'imdb': 6.3, 'category': 'Action'}, {'name': 'Dark Knight', 'imdb': 9.0, 'category': 'Adventure'}, {'name': 'Joking muck', 'imdb': 7.2, 'category': 'Comedy'}, {'name': 'Ringing Crime', 'imdb': 4.0, 'category': 'Crime'}, {'name': 'The Help', 'imdb': 8.0, 'category': 'Drama'}, {'name': 'Bride Wars', 'imdb': 5.4, 'category': 'Romance'}, {'name': 'Love', 'imdb': 6.0, 'category': 'Romance'}, {'name': 'The Choice', 'imdb': 6.2, 'category': 'Romance'}, {'name': 'We Two', 'imdb': 7.2, 'category': 'Romance'}, {'name': 'Colonia', 'imdb': 7.4, 'category': 'Romance'}, {'name': 'Detective', 'imdb': 7.0, 'category': 'Suspense'}, {'name': 'What is the name', 'imdb': 9.2, 'category': 'Suspense'}, {'name': 'Exam', 'imdb': 4.2, 'category': 'Thriller'}, {'name': 'Usual Suspects', 'imdb': 7.0, 'category': 'Thriller'}, {'name': 'AlphaJet', 'imdb': 3.2, 'category': 'War'}]\n"
     ]
    }
   ],
   "source": [
    "# 3.2\n",
    "def movie_sort(movies_list):\n",
    "    print(sorted(movies_list, key = lambda i: (i['category'], i['imdb'])))\n",
    "\n",
    "movie_sort(movies)"
   ]
  },
  {
   "cell_type": "markdown",
   "metadata": {},
   "source": [
    "---\n",
    "\n",
    "### 4) Creating subsets by string condition.\n",
    "\n",
    "#### 4.1)\n",
    "\n",
    "Write a function that:\n",
    "\n",
    "1) Accepts the `movies` list and a category name.\n",
    "2) Returns the movie names within that category (case-insensitive!).\n",
    "3) If the category is not in the data, prints a message that says it does not exist and returns `None`.\n",
    "\n",
    "Recall that, to convert a string to lowercase, you can use:\n",
    "\n",
    "```python\n",
    "mystring = 'Dumb and Dumber'\n",
    "lowercase_mystring = mystring.lower()\n",
    "print lowercase_mystring\n",
    "'dumb and dumber'\n",
    "```\n",
    "\n",
    "#### 4.2 [Challenge])\n",
    "\n",
    "Write a function that:\n",
    "\n",
    "1) Accepts the 'movies' list and a \"search string.\"\n",
    "2) Returns a dictionary with the keys 'category' and 'title' whose values are lists of categories that contain the search string and titles that contain the search string, respectively (case-insensitive!)."
   ]
  },
  {
   "cell_type": "code",
   "execution_count": 81,
   "metadata": {},
   "outputs": [
    {
     "name": "stdout",
     "output_type": "stream",
     "text": [
      "False\n",
      "There are no movies in Category no\n"
     ]
    }
   ],
   "source": [
    "# 4.1\n",
    "def get_category(list, category):\n",
    "    category_list = [d['name'] for d in list if d['category'].lower()==category.lower()]\n",
    "    if any(category_list):\n",
    "        return category_list\n",
    "    else:\n",
    "        print('There are no movies in Category', category)\n",
    "        return None\n",
    "    \n",
    "get_category(movies, 'Drama')\n",
    "\n"
   ]
  },
  {
   "cell_type": "code",
   "execution_count": 84,
   "metadata": {},
   "outputs": [
    {
     "data": {
      "text/plain": [
       "{'category': ['crime', 'comedy'],\n",
       " 'title': ['ringing crime', 'what is the name']}"
      ]
     },
     "execution_count": 84,
     "metadata": {},
     "output_type": "execute_result"
    }
   ],
   "source": [
    "# 4.2\n",
    "def search_movies(movie_list, search_str):\n",
    "#     category_match = {d['category'] for d in movie_list if d['category'].lower().find(search_str.lower()) > -1}\n",
    "#     title_match = {d['name'] for d in movie_list if d['name'].lower().find(search_str.lower()) > -1}\n",
    "#     return {'category':list(category_match), 'title': list(title_match)}\n",
    "    search_str = search_str.lower()\n",
    "    results = {'category':[], 'title': []}\n",
    "    for movie in movie_list:\n",
    "        category = movie['category'].lower()\n",
    "        title = movie['name'].lower()\n",
    "        if search_str in title:\n",
    "            if not title in results['title']:\n",
    "                results['title'].append(title)\n",
    "                \n",
    "        if search_str in category:\n",
    "            if not category in results['category']:\n",
    "                results['category'].append(category)\n",
    "    return results\n",
    "        \n",
    "            \n",
    "    \n",
    "search_movies(movies, 'me')"
   ]
  },
  {
   "cell_type": "markdown",
   "metadata": {},
   "source": [
    "---\n",
    "\n",
    "### 5) Multiple conditions.\n",
    "\n",
    "#### 5.1)\n",
    "\n",
    "Write a function that:\n",
    "\n",
    "1) Accepts the `movies` list and a \"search criteria\" variable.\n",
    "2) If the criteria variable is numeric, return a list of movie titles with a score greater than or equal to the criteria.\n",
    "3) If the criteria variable is a string, return a list of movie titles that match that category (case-insensitive!). If there is no match, return an empty list and print an informative message.\n",
    "\n",
    "#### 5.2 [Expert])\n",
    "\n",
    "Write a function that:\n",
    "\n",
    "1) Accepts the `movies` list and a string search criteria variable.\n",
    "2) The search criteria variable can contain within it:\n",
    "  - Boolean operations: `'AND'`, `'OR'`, and `'NOT'` (can have/be lowercase as well, we just capitalized for clarity).\n",
    "  - Search criteria specified with the syntax `score=...`, `category=...`, and/or `title=...`, where the `...` indicates what to look for.\n",
    "    - If `score` is present, it indicates scores greater than or equal to the value.\n",
    "    - For `category` and `title`, the string indicates that the category or title must _contain_ the search string (case-insensitive).\n",
    "3) Return the matches for the search criteria specified."
   ]
  },
  {
   "cell_type": "code",
   "execution_count": 89,
   "metadata": {},
   "outputs": [
    {
     "data": {
      "text/plain": [
       "['Usual Suspects',\n",
       " 'Dark Knight',\n",
       " 'The Help',\n",
       " 'Colonia',\n",
       " 'Joking muck',\n",
       " 'What is the name',\n",
       " 'Detective',\n",
       " 'We Two']"
      ]
     },
     "execution_count": 89,
     "metadata": {},
     "output_type": "execute_result"
    }
   ],
   "source": [
    "# 5.1\n",
    "# def my_search(movie_list, search_criteria):\n",
    "#     if type(search_criteria) in [int, float]:\n",
    "#         return [d['name'] for d in movie_list if d['imdb'] > float(search_criteria)]\n",
    "#     if type(search_criteria) == str:\n",
    "#         matched = [d['name'] for d in movie_list if d['name'].lower().find(search_criteria.lower()) > -1]\n",
    "#         if any(matched):\n",
    "#             return matched\n",
    "#         else:\n",
    "#             print('There are no movies that match your search.')\n",
    "\n",
    "def my_search(movie_list, criteria):\n",
    "    matches = []\n",
    "    \n",
    "    if type(criteria) in [int, float]:\n",
    "        search_type = 'score'\n",
    "    elif type(criteria) == str:\n",
    "        search_type = 'title'\n",
    "        criteria = critera.lower()\n",
    "    else:\n",
    "        print('Your search criteria is neither string nor number.')\n",
    "        \n",
    "    for movie in movies:\n",
    "        if search_type == 'score':\n",
    "            if movie['imdb'] > criteria:\n",
    "                matches.append(movie['name'])\n",
    "        else:\n",
    "            if movie['category'].lower() == criteria:\n",
    "                matches.append(movie['name'])\n",
    "    return matches\n",
    "    \n",
    "        \n",
    "my_search(movies, 6.9)\n",
    "    "
   ]
  },
  {
   "cell_type": "markdown",
   "metadata": {},
   "source": [
    "\n",
    "Write a function that:\n",
    "\n",
    "1) Accepts the movies list and a string search criteria variable. 2) The search criteria variable can contain within it:\n",
    "\n",
    "Boolean operations: 'AND', 'OR', and 'NOT' (can have/be lowercase as well, we just capitalized for clarity).\n",
    "Search criteria specified with the syntax score=..., category=..., and/or title=..., where the ... indicates what to look for.\n",
    "If score is present, it indicates scores greater than or equal to the value.\n",
    "For category and title, the string indicates that the category or title must contain the search string (case-insensitive). 3) Return the matches for the search criteria specified."
   ]
  },
  {
   "cell_type": "code",
   "execution_count": 90,
   "metadata": {},
   "outputs": [
    {
     "data": {
      "text/plain": [
       "True"
      ]
     },
     "execution_count": 90,
     "metadata": {},
     "output_type": "execute_result"
    }
   ],
   "source": [
    "def bool_search(movies, criteria):\n",
    "    return True\n",
    "\n",
    "bool_search(movies, 'test')"
   ]
  },
  {
   "cell_type": "code",
   "execution_count": null,
   "metadata": {},
   "outputs": [],
   "source": []
  }
 ],
 "metadata": {
  "kernelspec": {
   "display_name": "Python 3",
   "language": "python",
   "name": "python3"
  },
  "language_info": {
   "codemirror_mode": {
    "name": "ipython",
    "version": 3
   },
   "file_extension": ".py",
   "mimetype": "text/x-python",
   "name": "python",
   "nbconvert_exporter": "python",
   "pygments_lexer": "ipython3",
   "version": "3.7.3"
  }
 },
 "nbformat": 4,
 "nbformat_minor": 1
}
